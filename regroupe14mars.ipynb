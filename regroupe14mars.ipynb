{
 "cells": [
  {
   "cell_type": "code",
   "execution_count": 473,
   "metadata": {},
   "outputs": [],
   "source": [
    "import numpy as np\n",
    "import matplotlib.pyplot as plt"
   ]
  },
  {
   "cell_type": "code",
   "execution_count": 474,
   "metadata": {},
   "outputs": [],
   "source": [
    "N = 100\n",
    "def population(pc_gay, pc_les):\n",
    "    '''\n",
    "    matrice avec individu tuple = (genre,orientation,région,contamination)\n",
    "    '''\n",
    "    if np.random.randint(2)==0:\n",
    "        C=pc_les\n",
    "    else:\n",
    "        C=pc_gay\n",
    "    \n",
    "    state = np.array([(np.random.randint(2),np.random.random()<C) for i in range(100)])\n",
    "    \n",
    "    return state\n"
   ]
  },
  {
   "cell_type": "code",
   "execution_count": 475,
   "metadata": {},
   "outputs": [],
   "source": [
    "#on entre les pourcentage de gay (7%) et lesbienne (1%)\n",
    "state = population(0.07,0.01)"
   ]
  },
  {
   "cell_type": "code",
   "execution_count": 476,
   "metadata": {},
   "outputs": [
    {
     "name": "stdout",
     "output_type": "stream",
     "text": [
      "[1 0]\n"
     ]
    }
   ],
   "source": [
    "a=(state[np.random.randint(N+1)])\n",
    "print(a)"
   ]
  },
  {
   "cell_type": "code",
   "execution_count": 477,
   "metadata": {},
   "outputs": [
    {
     "name": "stdout",
     "output_type": "stream",
     "text": [
      "[1 0]\n"
     ]
    }
   ],
   "source": [
    "b=(state[np.random.randint(N+1)])\n",
    "print(b)"
   ]
  },
  {
   "cell_type": "code",
   "execution_count": 478,
   "metadata": {},
   "outputs": [],
   "source": [
    "def meeting (state):\n",
    "    return a,b"
   ]
  },
  {
   "cell_type": "code",
   "execution_count": 479,
   "metadata": {},
   "outputs": [
    {
     "name": "stdout",
     "output_type": "stream",
     "text": [
      "[1 0] [1 0]\n"
     ]
    }
   ],
   "source": [
    "print(a,b)"
   ]
  },
  {
   "cell_type": "code",
   "execution_count": 480,
   "metadata": {},
   "outputs": [
    {
     "name": "stdout",
     "output_type": "stream",
     "text": [
      "(array([1, 0]), array([1, 0]))\n"
     ]
    }
   ],
   "source": [
    "print (meeting(state))"
   ]
  },
  {
   "cell_type": "code",
   "execution_count": 481,
   "metadata": {},
   "outputs": [
    {
     "name": "stdout",
     "output_type": "stream",
     "text": [
      "non compatible\n"
     ]
    }
   ],
   "source": [
    "n,m = meeting(state)\n",
    "def compatibilite(n,m):\n",
    "    \n",
    "    #x défini le genre et y defini lorientation sexuelle \n",
    "    #Pour le genre, femme (0) et homme (1)\n",
    "    #Pour lorientation sexuelle, homosexuel (1) et hétéro(0)\n",
    "    \n",
    "    x1,y1 = n\n",
    "    x2,y2 = m\n",
    "    if y1 == y2 and y1 == 1 :\n",
    "        if x1 == x2 :\n",
    "            return 'compatible'\n",
    "        else : \n",
    "            return 'non compatible'\n",
    "    elif y1==y2 and y1==0:\n",
    "        if x1==x2:\n",
    "            return 'non compatible'\n",
    "        else : \n",
    "            return 'compatible'\n",
    "    elif y1 != y2 :\n",
    "        return 'non compatible'\n",
    "    \n",
    "print(compatibilite(n,m))"
   ]
  },
  {
   "cell_type": "code",
   "execution_count": 482,
   "metadata": {},
   "outputs": [],
   "source": [
    "#on va rajouter un parametre dans la matrice qui est la provenance des regions\n",
    "#on fait une liste de tuple avec les regions et les probabilités de venir de là\n",
    "L = [ ('Haut de France',0.09), ('Grand Est',0.08), ('Normandie',0.05), ('Bretagne', 0.05), ('Pays de la Loire', 0.06), ('Centre Val de Loire',0.04), ('IDF',0.18),('Bourgogne Franche Comté', 0.04), ('Nouvelle Aquitaine', 0.09), ('Auvergne Rhone Alpes',0.12),('Occitanie',0.09), ('Provence Alpes Cotes d Azur',0.07), ('Corse', 0.01), ('Guadeloupe', 0.01), ('Martinique', 0.01), ('Guyane', 0.01), ('Reunion', 0.01), ('Mayotte',0.01) ]"
   ]
  },
  {
   "cell_type": "code",
   "execution_count": 483,
   "metadata": {
    "scrolled": false
   },
   "outputs": [],
   "source": [
    "def provenance (L) :\n",
    "    e=0\n",
    "    i,j=L[e]\n",
    "    s=j\n",
    "    p = np.random.random()\n",
    "\n",
    "    while  p> s:\n",
    "        e=e+1\n",
    "        s = s +L[e][1]\n",
    "    return L[e][0]\n",
    "        "
   ]
  },
  {
   "cell_type": "code",
   "execution_count": 484,
   "metadata": {},
   "outputs": [
    {
     "name": "stdout",
     "output_type": "stream",
     "text": [
      "Occitanie\n"
     ]
    }
   ],
   "source": [
    "print(provenance(L))"
   ]
  },
  {
   "cell_type": "code",
   "execution_count": 485,
   "metadata": {},
   "outputs": [],
   "source": [
    "N = 100\n",
    "def population2(pc_gay, pc_les, L):\n",
    "    '''\n",
    "    matrice avec individu tuple = (genre,orientation,région)\n",
    "    '''\n",
    "    if np.random.randint(2)==0:\n",
    "        C=pc_les\n",
    "    else:\n",
    "        C=pc_gay\n",
    "        \n",
    "    \n",
    "    state = np.array([(np.random.randint(2),np.random.random()<C, provenance(L)) for i in range(100)])\n",
    "    \n",
    "    return state\n"
   ]
  },
  {
   "cell_type": "code",
   "execution_count": 486,
   "metadata": {},
   "outputs": [],
   "source": [
    "#On va rajouter un autre parametre afin de savoir si la personne est infectee ou non, parametre a rajouter dans la matrice\n",
    "\n",
    "\n",
    "def infection (S) : \n",
    "    if np.random.random() < S:\n",
    "        return 'infecté'\n",
    "    else:\n",
    "        return 'non infecté'\n",
    "        "
   ]
  },
  {
   "cell_type": "code",
   "execution_count": 487,
   "metadata": {},
   "outputs": [],
   "source": [
    "N = 100\n",
    "def population3(pc_gay, pc_les, L,S):\n",
    "    '''\n",
    "    matrice avec individu tuple = (genre,orientation,région,contamination)\n",
    "    '''\n",
    "    if np.random.randint(2)==0:\n",
    "        C=pc_les\n",
    "    else:\n",
    "        C=pc_gay\n",
    "\n",
    "    \n",
    "    state = np.array([(np.random.randint(2),np.random.random()<C, provenance(L), infection(S)) for i in range(100)])\n",
    "    \n",
    "    return state"
   ]
  },
  {
   "cell_type": "code",
   "execution_count": 488,
   "metadata": {},
   "outputs": [
    {
     "name": "stdout",
     "output_type": "stream",
     "text": [
      "[['0' 'False' 'Pays de la Loire' 'non infecté']\n",
      " ['0' 'False' 'Auvergne Rhone Alpes' 'non infecté']\n",
      " ['0' 'False' 'Occitanie' 'non infecté']\n",
      " ['1' 'False' 'Normandie' 'non infecté']\n",
      " ['0' 'False' 'Auvergne Rhone Alpes' 'non infecté']\n",
      " ['1' 'False' 'Normandie' 'non infecté']\n",
      " ['1' 'False' 'Grand Est' 'non infecté']\n",
      " ['0' 'False' 'Provence Alpes Cotes d Azur' 'non infecté']\n",
      " ['1' 'False' 'Occitanie' 'non infecté']\n",
      " ['1' 'False' 'Haut de France' 'non infecté']\n",
      " ['0' 'False' 'Grand Est' 'non infecté']\n",
      " ['0' 'False' 'Provence Alpes Cotes d Azur' 'non infecté']\n",
      " ['0' 'False' 'Bourgogne Franche Comté' 'non infecté']\n",
      " ['0' 'False' 'IDF' 'non infecté']\n",
      " ['0' 'False' 'Haut de France' 'non infecté']\n",
      " ['0' 'False' 'Nouvelle Aquitaine' 'non infecté']\n",
      " ['0' 'False' 'IDF' 'non infecté']\n",
      " ['0' 'False' 'Provence Alpes Cotes d Azur' 'non infecté']\n",
      " ['0' 'False' 'IDF' 'non infecté']\n",
      " ['0' 'False' 'Auvergne Rhone Alpes' 'non infecté']\n",
      " ['1' 'False' 'Centre Val de Loire' 'non infecté']\n",
      " ['1' 'False' 'IDF' 'non infecté']\n",
      " ['0' 'False' 'Nouvelle Aquitaine' 'non infecté']\n",
      " ['1' 'False' 'Grand Est' 'non infecté']\n",
      " ['0' 'False' 'Occitanie' 'non infecté']\n",
      " ['1' 'False' 'Nouvelle Aquitaine' 'non infecté']\n",
      " ['0' 'False' 'Occitanie' 'non infecté']\n",
      " ['0' 'False' 'Auvergne Rhone Alpes' 'non infecté']\n",
      " ['1' 'False' 'Bretagne' 'non infecté']\n",
      " ['0' 'False' 'Provence Alpes Cotes d Azur' 'non infecté']\n",
      " ['0' 'False' 'Auvergne Rhone Alpes' 'non infecté']\n",
      " ['1' 'False' 'Normandie' 'non infecté']\n",
      " ['1' 'False' 'Normandie' 'non infecté']\n",
      " ['0' 'False' 'Provence Alpes Cotes d Azur' 'non infecté']\n",
      " ['1' 'False' 'IDF' 'non infecté']\n",
      " ['1' 'False' 'Nouvelle Aquitaine' 'non infecté']\n",
      " ['1' 'False' 'Nouvelle Aquitaine' 'non infecté']\n",
      " ['0' 'False' 'Grand Est' 'non infecté']\n",
      " ['1' 'False' 'Bretagne' 'non infecté']\n",
      " ['0' 'False' 'Grand Est' 'non infecté']\n",
      " ['1' 'False' 'Pays de la Loire' 'non infecté']\n",
      " ['0' 'False' 'Grand Est' 'non infecté']\n",
      " ['1' 'False' 'Occitanie' 'non infecté']\n",
      " ['1' 'False' 'Nouvelle Aquitaine' 'non infecté']\n",
      " ['1' 'False' 'IDF' 'non infecté']\n",
      " ['1' 'False' 'IDF' 'non infecté']\n",
      " ['1' 'False' 'Corse' 'non infecté']\n",
      " ['0' 'False' 'Centre Val de Loire' 'non infecté']\n",
      " ['1' 'False' 'Bretagne' 'non infecté']\n",
      " ['1' 'False' 'Grand Est' 'non infecté']\n",
      " ['0' 'False' 'Haut de France' 'non infecté']\n",
      " ['0' 'False' 'Nouvelle Aquitaine' 'non infecté']\n",
      " ['0' 'False' 'IDF' 'non infecté']\n",
      " ['0' 'False' 'IDF' 'non infecté']\n",
      " ['0' 'False' 'IDF' 'non infecté']\n",
      " ['1' 'False' 'Bourgogne Franche Comté' 'non infecté']\n",
      " ['1' 'False' 'Normandie' 'non infecté']\n",
      " ['1' 'False' 'IDF' 'non infecté']\n",
      " ['1' 'False' 'Centre Val de Loire' 'non infecté']\n",
      " ['0' 'False' 'Nouvelle Aquitaine' 'non infecté']\n",
      " ['1' 'True' 'Normandie' 'non infecté']\n",
      " ['1' 'False' 'Nouvelle Aquitaine' 'non infecté']\n",
      " ['0' 'False' 'Grand Est' 'non infecté']\n",
      " ['0' 'False' 'Provence Alpes Cotes d Azur' 'non infecté']\n",
      " ['1' 'False' 'Centre Val de Loire' 'non infecté']\n",
      " ['0' 'False' 'Bretagne' 'non infecté']\n",
      " ['0' 'False' 'Haut de France' 'non infecté']\n",
      " ['1' 'False' 'Normandie' 'non infecté']\n",
      " ['0' 'False' 'Provence Alpes Cotes d Azur' 'non infecté']\n",
      " ['0' 'False' 'IDF' 'non infecté']\n",
      " ['1' 'False' 'Nouvelle Aquitaine' 'non infecté']\n",
      " ['0' 'False' 'Auvergne Rhone Alpes' 'non infecté']\n",
      " ['1' 'False' 'Haut de France' 'non infecté']\n",
      " ['0' 'True' 'Provence Alpes Cotes d Azur' 'non infecté']\n",
      " ['1' 'False' 'IDF' 'non infecté']\n",
      " ['1' 'False' 'Haut de France' 'non infecté']\n",
      " ['0' 'False' 'Pays de la Loire' 'non infecté']\n",
      " ['0' 'False' 'Provence Alpes Cotes d Azur' 'non infecté']\n",
      " ['0' 'False' 'Martinique' 'non infecté']\n",
      " ['1' 'False' 'Bretagne' 'non infecté']\n",
      " ['0' 'False' 'Grand Est' 'non infecté']\n",
      " ['0' 'False' 'Grand Est' 'non infecté']\n",
      " ['0' 'False' 'Nouvelle Aquitaine' 'non infecté']\n",
      " ['0' 'False' 'Grand Est' 'non infecté']\n",
      " ['0' 'False' 'Nouvelle Aquitaine' 'non infecté']\n",
      " ['0' 'False' 'IDF' 'non infecté']\n",
      " ['1' 'False' 'Nouvelle Aquitaine' 'infecté']\n",
      " ['0' 'False' 'Bourgogne Franche Comté' 'non infecté']\n",
      " ['1' 'False' 'Provence Alpes Cotes d Azur' 'non infecté']\n",
      " ['1' 'False' 'IDF' 'non infecté']\n",
      " ['0' 'False' 'Nouvelle Aquitaine' 'non infecté']\n",
      " ['1' 'False' 'IDF' 'non infecté']\n",
      " ['0' 'False' 'Corse' 'non infecté']\n",
      " ['0' 'False' 'Normandie' 'non infecté']\n",
      " ['1' 'False' 'Occitanie' 'non infecté']\n",
      " ['0' 'False' 'IDF' 'non infecté']\n",
      " ['1' 'False' 'IDF' 'non infecté']\n",
      " ['0' 'False' 'Bourgogne Franche Comté' 'non infecté']\n",
      " ['1' 'False' 'Occitanie' 'non infecté']\n",
      " ['0' 'False' 'Bretagne' 'non infecté']]\n"
     ]
    }
   ],
   "source": [
    "print (population3(0.07,0.01,L,0.00228))"
   ]
  },
  {
   "cell_type": "code",
   "execution_count": 489,
   "metadata": {},
   "outputs": [],
   "source": [
    "#probabilité que les deux personnes aient un rapport sexuel après la rencontre\n",
    "Prs = 0.2"
   ]
  },
  {
   "cell_type": "code",
   "execution_count": 490,
   "metadata": {},
   "outputs": [],
   "source": [
    "def rapport_sexuel(n,m,Prs):\n",
    "    \n",
    "    if compatibilite(n,m)== 'compatible':\n",
    "       \n",
    "        y=np.random.random()\n",
    "        print(y)\n",
    "        if y <= Prs :\n",
    "            return 'rapport'\n",
    "    return 'non rapport'"
   ]
  },
  {
   "cell_type": "code",
   "execution_count": 491,
   "metadata": {},
   "outputs": [],
   "source": [
    "#pourcentage rapport protégé\n",
    "Prp = 0.7\n",
    "\n"
   ]
  },
  {
   "cell_type": "code",
   "execution_count": 492,
   "metadata": {},
   "outputs": [],
   "source": [
    "def protection(n,m,Prs,Prp):\n",
    "    \n",
    "    if rapport_sexuel(n,m,Prs)== 'rapport':\n",
    "        z=np.random.random()\n",
    "        print(z)\n",
    "        if z <= 0.7:\n",
    "            return 'rapport protégé'\n",
    "        else:\n",
    "            return 'rapport non protégé'\n",
    "    return 'pas de rapport'"
   ]
  },
  {
   "cell_type": "code",
   "execution_count": 493,
   "metadata": {},
   "outputs": [
    {
     "name": "stdout",
     "output_type": "stream",
     "text": [
      "pas de rapport\n"
     ]
    }
   ],
   "source": [
    "print(protection(n,m,Prs,Prp))"
   ]
  },
  {
   "cell_type": "code",
   "execution_count": 494,
   "metadata": {},
   "outputs": [],
   "source": [
    "#taux de femmes pratiquant le sexe anal\n",
    "Ts = 0.1"
   ]
  },
  {
   "cell_type": "code",
   "execution_count": 495,
   "metadata": {},
   "outputs": [],
   "source": [
    "#probabilité de transmettre le sida selon le rapport\n",
    "RAR = 0.015\n",
    "RI = 0.0006\n",
    "RVR = 0.0015\n"
   ]
  },
  {
   "cell_type": "code",
   "execution_count": 496,
   "metadata": {},
   "outputs": [
    {
     "ename": "SyntaxError",
     "evalue": "invalid syntax (<ipython-input-496-9a1e08f32d34>, line 5)",
     "output_type": "error",
     "traceback": [
      "\u001b[0;36m  File \u001b[0;32m\"<ipython-input-496-9a1e08f32d34>\"\u001b[0;36m, line \u001b[0;32m5\u001b[0m\n\u001b[0;31m    if n=(1,0) and m=(0,0):\u001b[0m\n\u001b[0m        ^\u001b[0m\n\u001b[0;31mSyntaxError\u001b[0m\u001b[0;31m:\u001b[0m invalid syntax\n"
     ]
    }
   ],
   "source": [
    "def sida(n,m,Prs,RAR,RI,RVR):\n",
    "    \n",
    "    if protection(n,m,Prs,Prp) == 'rapport non protégé':\n",
    "        \n",
    "        if n=(1,0) and m=(0,0):\n",
    "            if infecte(n)=='True' and infecte(m)=='False':\n",
    "                s = np.random.random()\n",
    "                if s <= RVR:\n",
    "                    return 'femme infectée'\n",
    "            elif infecte(m)='True' and infecte(n)=='False':\n",
    "                s1 = np.random.random()\n",
    "                if s1 <= RI:\n",
    "                    return 'homme infecté'\n",
    "                \n",
    "        elif n=(0,0) and m=(1,0):\n",
    "            if infecte(n)== 'True' and infecte(m) == 'False':\n",
    "                s2 = np.random.random()\n",
    "                if s2 <= RI :\n",
    "                    return 'homme infecté'\n",
    "                \n",
    "            elif infecte(n)== 'False' and infecte(m)=='True':\n",
    "                s3 = np.random.random()\n",
    "                if s3 <= RVR:\n",
    "                    return 'femme infectée'"
   ]
  },
  {
   "cell_type": "code",
   "execution_count": null,
   "metadata": {},
   "outputs": [],
   "source": []
  },
  {
   "cell_type": "code",
   "execution_count": null,
   "metadata": {},
   "outputs": [],
   "source": []
  },
  {
   "cell_type": "code",
   "execution_count": null,
   "metadata": {},
   "outputs": [],
   "source": []
  },
  {
   "cell_type": "code",
   "execution_count": null,
   "metadata": {},
   "outputs": [],
   "source": []
  },
  {
   "cell_type": "code",
   "execution_count": null,
   "metadata": {},
   "outputs": [],
   "source": []
  },
  {
   "cell_type": "code",
   "execution_count": null,
   "metadata": {},
   "outputs": [],
   "source": []
  }
 ],
 "metadata": {
  "kernelspec": {
   "display_name": "Python 3",
   "language": "python",
   "name": "python3"
  },
  "language_info": {
   "codemirror_mode": {
    "name": "ipython",
    "version": 3
   },
   "file_extension": ".py",
   "mimetype": "text/x-python",
   "name": "python",
   "nbconvert_exporter": "python",
   "pygments_lexer": "ipython3",
   "version": "3.4.2"
  }
 },
 "nbformat": 4,
 "nbformat_minor": 2
}
