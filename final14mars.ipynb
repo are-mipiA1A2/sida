{
 "cells": [
  {
   "cell_type": "code",
   "execution_count": 876,
   "metadata": {},
   "outputs": [],
   "source": [
    "import numpy as np\n",
    "import matplotlib.pyplot as plt"
   ]
  },
  {
   "cell_type": "code",
   "execution_count": 877,
   "metadata": {},
   "outputs": [],
   "source": [
    "N = 100\n",
    "def population(pc_gay, pc_les):\n",
    "    '''\n",
    "    matrice avec individu tuple = (genre,orientation,région,contamination)\n",
    "    '''\n",
    "    if np.random.randint(2)==0:\n",
    "        C=pc_les\n",
    "    else:\n",
    "        C=pc_gay\n",
    "    \n",
    "    state = np.array([(np.random.randint(2),np.random.random()<C) for i in range(100)])\n",
    "    \n",
    "    return state\n"
   ]
  },
  {
   "cell_type": "code",
   "execution_count": 878,
   "metadata": {},
   "outputs": [],
   "source": [
    "#on entre les pourcentage de gay (7%) et lesbienne (1%)\n",
    "state = population(0.07,0.01)"
   ]
  },
  {
   "cell_type": "code",
   "execution_count": 879,
   "metadata": {},
   "outputs": [
    {
     "name": "stdout",
     "output_type": "stream",
     "text": [
      "[0 0]\n"
     ]
    }
   ],
   "source": [
    "a=(state[np.random.randint(N+1)])\n",
    "print(a)"
   ]
  },
  {
   "cell_type": "code",
   "execution_count": 880,
   "metadata": {},
   "outputs": [
    {
     "name": "stdout",
     "output_type": "stream",
     "text": [
      "[1 0]\n"
     ]
    }
   ],
   "source": [
    "b=(state[np.random.randint(N+1)])\n",
    "print(b)"
   ]
  },
  {
   "cell_type": "code",
   "execution_count": 881,
   "metadata": {},
   "outputs": [],
   "source": [
    "def meeting (state):\n",
    "    return a,b"
   ]
  },
  {
   "cell_type": "code",
   "execution_count": 882,
   "metadata": {},
   "outputs": [
    {
     "name": "stdout",
     "output_type": "stream",
     "text": [
      "[0 0] [1 0]\n"
     ]
    }
   ],
   "source": [
    "print(a,b)"
   ]
  },
  {
   "cell_type": "code",
   "execution_count": 883,
   "metadata": {},
   "outputs": [
    {
     "name": "stdout",
     "output_type": "stream",
     "text": [
      "(array([0, 0]), array([1, 0]))\n"
     ]
    }
   ],
   "source": [
    "print (meeting(state))"
   ]
  },
  {
   "cell_type": "code",
   "execution_count": 884,
   "metadata": {},
   "outputs": [
    {
     "name": "stdout",
     "output_type": "stream",
     "text": [
      "compatible\n"
     ]
    }
   ],
   "source": [
    "n,m = meeting(state)\n",
    "def compatibilite(n,m):\n",
    "    \n",
    "    #x défini le genre et y defini lorientation sexuelle \n",
    "    #Pour le genre, femme (0) et homme (1)\n",
    "    #Pour lorientation sexuelle, homosexuel (1) et hétéro(0)\n",
    "    \n",
    "    x1,y1 = n\n",
    "    x2,y2 = m\n",
    "    if y1 == y2 and y1 == 1 :\n",
    "        if x1 == x2 :\n",
    "            return 'compatible'\n",
    "        else : \n",
    "            return 'non compatible'\n",
    "    elif y1==y2 and y1==0:\n",
    "        if x1==x2:\n",
    "            return 'non compatible'\n",
    "        else : \n",
    "            return 'compatible'\n",
    "    elif y1 != y2 :\n",
    "        return 'non compatible'\n",
    "    \n",
    "print(compatibilite(n,m))"
   ]
  },
  {
   "cell_type": "code",
   "execution_count": 885,
   "metadata": {},
   "outputs": [],
   "source": [
    "#on va rajouter un parametre dans la matrice qui est la provenance des regions\n",
    "#on fait une liste de tuple avec les regions et les probabilités de venir de là\n",
    "L = [ ('Haut de France',0.09), ('Grand Est',0.08), ('Normandie',0.05), ('Bretagne', 0.05), ('Pays de la Loire', 0.06), ('Centre Val de Loire',0.04), ('IDF',0.18),('Bourgogne Franche Comté', 0.04), ('Nouvelle Aquitaine', 0.09), ('Auvergne Rhone Alpes',0.12),('Occitanie',0.09), ('Provence Alpes Cotes d Azur',0.07), ('Corse', 0.01), ('Guadeloupe', 0.01), ('Martinique', 0.01), ('Guyane', 0.01), ('Reunion', 0.01), ('Mayotte',0.01) ]"
   ]
  },
  {
   "cell_type": "code",
   "execution_count": 886,
   "metadata": {
    "scrolled": false
   },
   "outputs": [],
   "source": [
    "def provenance (L) :\n",
    "    e=0\n",
    "    i,j=L[e]\n",
    "    s=j\n",
    "    p = np.random.random()\n",
    "\n",
    "    while  p> s:\n",
    "        e=e+1\n",
    "        s = s +L[e][1]\n",
    "    return L[e][0]\n",
    "        "
   ]
  },
  {
   "cell_type": "code",
   "execution_count": 887,
   "metadata": {},
   "outputs": [
    {
     "name": "stdout",
     "output_type": "stream",
     "text": [
      "Occitanie\n"
     ]
    }
   ],
   "source": [
    "print(provenance(L))"
   ]
  },
  {
   "cell_type": "code",
   "execution_count": 888,
   "metadata": {},
   "outputs": [],
   "source": [
    "N = 100\n",
    "def population2(pc_gay, pc_les, L):\n",
    "    '''\n",
    "    matrice avec individu tuple = (genre,orientation,région)\n",
    "    '''\n",
    "    if np.random.randint(2)==0:\n",
    "        C=pc_les\n",
    "    else:\n",
    "        C=pc_gay\n",
    "        \n",
    "    \n",
    "    state = np.array([(np.random.randint(2),np.random.random()<C, provenance(L)) for i in range(100)])\n",
    "    \n",
    "    return state\n"
   ]
  },
  {
   "cell_type": "code",
   "execution_count": 889,
   "metadata": {},
   "outputs": [],
   "source": [
    "#On va rajouter un autre parametre afin de savoir si la personne est infectee ou non, parametre a rajouter dans la matrice\n",
    "\n",
    "\n",
    "def infection (S) : \n",
    "    if np.random.random() < S:\n",
    "        return 'infecté'\n",
    "    else:\n",
    "        return 'non infecté'\n",
    "        "
   ]
  },
  {
   "cell_type": "code",
   "execution_count": 890,
   "metadata": {},
   "outputs": [],
   "source": [
    "N = 100\n",
    "def population3(pc_gay, pc_les, L,S):\n",
    "    '''\n",
    "    matrice avec individu tuple = (genre,orientation,région,contamination)\n",
    "    '''\n",
    "    if np.random.randint(2)==0:\n",
    "        C=pc_les\n",
    "    else:\n",
    "        C=pc_gay\n",
    "\n",
    "    \n",
    "    state = np.array([(np.random.randint(2),np.random.random()<C, provenance(L), infection(S)) for i in range(100)], dtype=object)\n",
    "    \n",
    "    return state"
   ]
  },
  {
   "cell_type": "code",
   "execution_count": 891,
   "metadata": {},
   "outputs": [
    {
     "name": "stdout",
     "output_type": "stream",
     "text": [
      "[[1 False 'IDF' 'non infecté']\n",
      " [0 True 'Bourgogne Franche Comté' 'non infecté']\n",
      " [0 False 'Nouvelle Aquitaine' 'non infecté']\n",
      " [1 False 'Grand Est' 'non infecté']\n",
      " [0 False 'Nouvelle Aquitaine' 'non infecté']\n",
      " [1 False 'Centre Val de Loire' 'non infecté']\n",
      " [1 False 'Occitanie' 'non infecté']\n",
      " [1 False 'Grand Est' 'non infecté']\n",
      " [1 False 'Provence Alpes Cotes d Azur' 'non infecté']\n",
      " [0 False 'Centre Val de Loire' 'non infecté']\n",
      " [0 False 'Auvergne Rhone Alpes' 'non infecté']\n",
      " [1 False 'IDF' 'non infecté']\n",
      " [1 False 'Martinique' 'non infecté']\n",
      " [0 False 'Haut de France' 'non infecté']\n",
      " [1 False 'Auvergne Rhone Alpes' 'non infecté']\n",
      " [0 False 'Nouvelle Aquitaine' 'non infecté']\n",
      " [1 True 'Bourgogne Franche Comté' 'non infecté']\n",
      " [1 False 'IDF' 'non infecté']\n",
      " [0 False 'Guyane' 'non infecté']\n",
      " [1 False 'Centre Val de Loire' 'non infecté']\n",
      " [0 False 'Normandie' 'non infecté']\n",
      " [0 False 'Occitanie' 'non infecté']\n",
      " [0 False 'Occitanie' 'non infecté']\n",
      " [0 False 'Haut de France' 'non infecté']\n",
      " [0 False 'Centre Val de Loire' 'non infecté']\n",
      " [0 False 'Haut de France' 'non infecté']\n",
      " [0 False 'IDF' 'non infecté']\n",
      " [0 False 'Bretagne' 'non infecté']\n",
      " [1 True 'Nouvelle Aquitaine' 'non infecté']\n",
      " [0 False 'Centre Val de Loire' 'non infecté']\n",
      " [1 False 'Occitanie' 'non infecté']\n",
      " [1 False 'Bourgogne Franche Comté' 'non infecté']\n",
      " [1 True 'Provence Alpes Cotes d Azur' 'non infecté']\n",
      " [1 False 'Haut de France' 'non infecté']\n",
      " [1 False 'Provence Alpes Cotes d Azur' 'non infecté']\n",
      " [0 False 'Nouvelle Aquitaine' 'non infecté']\n",
      " [0 False 'Centre Val de Loire' 'non infecté']\n",
      " [0 False 'Auvergne Rhone Alpes' 'non infecté']\n",
      " [0 False 'Occitanie' 'non infecté']\n",
      " [0 False 'Provence Alpes Cotes d Azur' 'non infecté']\n",
      " [1 False 'Auvergne Rhone Alpes' 'non infecté']\n",
      " [1 False 'Auvergne Rhone Alpes' 'non infecté']\n",
      " [0 False 'Pays de la Loire' 'non infecté']\n",
      " [1 False 'Auvergne Rhone Alpes' 'non infecté']\n",
      " [1 False 'Grand Est' 'non infecté']\n",
      " [1 False 'IDF' 'non infecté']\n",
      " [1 False 'Auvergne Rhone Alpes' 'non infecté']\n",
      " [1 False 'Provence Alpes Cotes d Azur' 'non infecté']\n",
      " [0 False 'Nouvelle Aquitaine' 'non infecté']\n",
      " [1 True 'Nouvelle Aquitaine' 'non infecté']\n",
      " [1 False 'Haut de France' 'non infecté']\n",
      " [0 False 'Auvergne Rhone Alpes' 'non infecté']\n",
      " [1 False 'IDF' 'non infecté']\n",
      " [1 True 'Bourgogne Franche Comté' 'non infecté']\n",
      " [1 False 'Centre Val de Loire' 'non infecté']\n",
      " [0 False 'Occitanie' 'non infecté']\n",
      " [0 False 'Normandie' 'non infecté']\n",
      " [0 False 'IDF' 'non infecté']\n",
      " [0 False 'Auvergne Rhone Alpes' 'non infecté']\n",
      " [1 False 'IDF' 'non infecté']\n",
      " [0 False 'Auvergne Rhone Alpes' 'non infecté']\n",
      " [1 False 'Provence Alpes Cotes d Azur' 'non infecté']\n",
      " [0 False 'Pays de la Loire' 'non infecté']\n",
      " [0 False 'Haut de France' 'non infecté']\n",
      " [1 False 'IDF' 'non infecté']\n",
      " [0 False 'Centre Val de Loire' 'non infecté']\n",
      " [0 False 'Auvergne Rhone Alpes' 'non infecté']\n",
      " [1 False 'Occitanie' 'non infecté']\n",
      " [1 True 'Pays de la Loire' 'non infecté']\n",
      " [0 False 'Occitanie' 'non infecté']\n",
      " [1 True 'Bretagne' 'non infecté']\n",
      " [0 False 'IDF' 'non infecté']\n",
      " [1 False 'Grand Est' 'non infecté']\n",
      " [0 True 'Auvergne Rhone Alpes' 'non infecté']\n",
      " [0 False 'Pays de la Loire' 'non infecté']\n",
      " [1 False 'IDF' 'non infecté']\n",
      " [0 False 'Grand Est' 'non infecté']\n",
      " [1 False 'Bretagne' 'non infecté']\n",
      " [1 False 'IDF' 'non infecté']\n",
      " [0 False 'Provence Alpes Cotes d Azur' 'non infecté']\n",
      " [1 False 'Haut de France' 'non infecté']\n",
      " [1 False 'Normandie' 'non infecté']\n",
      " [1 False 'Normandie' 'non infecté']\n",
      " [0 False 'IDF' 'non infecté']\n",
      " [1 False 'Provence Alpes Cotes d Azur' 'non infecté']\n",
      " [0 False 'Haut de France' 'non infecté']\n",
      " [1 False 'Occitanie' 'non infecté']\n",
      " [1 False 'IDF' 'non infecté']\n",
      " [0 False 'Occitanie' 'non infecté']\n",
      " [0 False 'Pays de la Loire' 'non infecté']\n",
      " [1 False 'Auvergne Rhone Alpes' 'non infecté']\n",
      " [1 False 'Haut de France' 'non infecté']\n",
      " [0 False 'IDF' 'non infecté']\n",
      " [1 False 'Bretagne' 'non infecté']\n",
      " [1 False 'Nouvelle Aquitaine' 'non infecté']\n",
      " [0 False 'Normandie' 'non infecté']\n",
      " [1 True 'Provence Alpes Cotes d Azur' 'non infecté']\n",
      " [1 False 'Occitanie' 'non infecté']\n",
      " [0 False 'Provence Alpes Cotes d Azur' 'non infecté']\n",
      " [0 False 'Nouvelle Aquitaine' 'non infecté']]\n"
     ]
    }
   ],
   "source": [
    "print (population3(0.07,0.01,L,0.00228))"
   ]
  },
  {
   "cell_type": "code",
   "execution_count": 892,
   "metadata": {},
   "outputs": [
    {
     "name": "stdout",
     "output_type": "stream",
     "text": [
      "[[1 False 'Auvergne Rhone Alpes' 'non infecté']\n",
      " [1 False 'Auvergne Rhone Alpes' 'non infecté']\n",
      " [0 False 'Haut de France' 'infecté']\n",
      " [1 False 'IDF' 'non infecté']\n",
      " [0 False 'Provence Alpes Cotes d Azur' 'infecté']\n",
      " [0 False 'Centre Val de Loire' 'infecté']\n",
      " [1 False 'IDF' 'infecté']\n",
      " [0 False 'IDF' 'infecté']\n",
      " [0 False 'Pays de la Loire' 'non infecté']\n",
      " [0 False 'IDF' 'infecté']\n",
      " [1 False 'Nouvelle Aquitaine' 'infecté']\n",
      " [1 False 'Nouvelle Aquitaine' 'infecté']\n",
      " [1 True 'Grand Est' 'non infecté']\n",
      " [1 False 'Haut de France' 'infecté']\n",
      " [1 True 'Provence Alpes Cotes d Azur' 'non infecté']\n",
      " [1 False 'Auvergne Rhone Alpes' 'infecté']\n",
      " [0 False 'Pays de la Loire' 'infecté']\n",
      " [0 False 'Provence Alpes Cotes d Azur' 'infecté']\n",
      " [0 False 'IDF' 'non infecté']\n",
      " [0 False 'Corse' 'infecté']\n",
      " [1 False 'Auvergne Rhone Alpes' 'non infecté']\n",
      " [1 False 'IDF' 'infecté']\n",
      " [1 False 'Auvergne Rhone Alpes' 'non infecté']\n",
      " [1 False 'IDF' 'non infecté']\n",
      " [0 False 'IDF' 'infecté']\n",
      " [1 False 'Bretagne' 'non infecté']\n",
      " [0 False 'IDF' 'infecté']\n",
      " [0 False 'Centre Val de Loire' 'non infecté']\n",
      " [1 False 'IDF' 'non infecté']\n",
      " [1 False 'Bretagne' 'non infecté']\n",
      " [1 False 'Grand Est' 'infecté']\n",
      " [1 False 'Auvergne Rhone Alpes' 'non infecté']\n",
      " [0 False 'Haut de France' 'non infecté']\n",
      " [0 False 'Auvergne Rhone Alpes' 'infecté']\n",
      " [0 False 'Haut de France' 'infecté']\n",
      " [1 False 'Occitanie' 'non infecté']\n",
      " [0 False 'Haut de France' 'non infecté']\n",
      " [0 False 'Haut de France' 'non infecté']\n",
      " [0 False 'Normandie' 'infecté']\n",
      " [0 False 'Bourgogne Franche Comté' 'infecté']\n",
      " [0 False 'Auvergne Rhone Alpes' 'non infecté']\n",
      " [1 False 'Grand Est' 'infecté']\n",
      " [0 False 'IDF' 'infecté']\n",
      " [0 False 'Occitanie' 'infecté']\n",
      " [1 False 'Nouvelle Aquitaine' 'infecté']\n",
      " [1 False 'Provence Alpes Cotes d Azur' 'infecté']\n",
      " [0 False 'Grand Est' 'non infecté']\n",
      " [1 False 'IDF' 'infecté']\n",
      " [1 False 'IDF' 'non infecté']\n",
      " [0 False 'Grand Est' 'infecté']\n",
      " [1 False 'Grand Est' 'infecté']\n",
      " [0 False 'Corse' 'infecté']\n",
      " [1 False 'Bourgogne Franche Comté' 'infecté']\n",
      " [1 False 'IDF' 'infecté']\n",
      " [0 False 'Provence Alpes Cotes d Azur' 'infecté']\n",
      " [0 False 'Martinique' 'non infecté']\n",
      " [1 False 'Grand Est' 'infecté']\n",
      " [0 False 'IDF' 'infecté']\n",
      " [0 False 'Auvergne Rhone Alpes' 'non infecté']\n",
      " [0 False 'Nouvelle Aquitaine' 'infecté']\n",
      " [0 False 'IDF' 'non infecté']\n",
      " [0 False 'Bretagne' 'non infecté']\n",
      " [1 False 'Grand Est' 'non infecté']\n",
      " [0 False 'IDF' 'infecté']\n",
      " [0 False 'Provence Alpes Cotes d Azur' 'non infecté']\n",
      " [0 False 'Bretagne' 'non infecté']\n",
      " [1 False 'IDF' 'infecté']\n",
      " [0 False 'Pays de la Loire' 'non infecté']\n",
      " [1 False 'IDF' 'infecté']\n",
      " [1 False 'Nouvelle Aquitaine' 'infecté']\n",
      " [0 False 'IDF' 'non infecté']\n",
      " [0 False 'Bourgogne Franche Comté' 'infecté']\n",
      " [0 False 'Auvergne Rhone Alpes' 'infecté']\n",
      " [0 False 'IDF' 'non infecté']\n",
      " [0 False 'Haut de France' 'non infecté']\n",
      " [1 False 'Grand Est' 'non infecté']\n",
      " [0 False 'Nouvelle Aquitaine' 'infecté']\n",
      " [1 False 'Centre Val de Loire' 'non infecté']\n",
      " [1 False 'IDF' 'non infecté']\n",
      " [0 False 'IDF' 'infecté']\n",
      " [0 False 'Pays de la Loire' 'non infecté']\n",
      " [0 False 'Martinique' 'non infecté']\n",
      " [1 False 'Occitanie' 'infecté']\n",
      " [0 False 'Occitanie' 'infecté']\n",
      " [0 False 'Grand Est' 'non infecté']\n",
      " [1 False 'Nouvelle Aquitaine' 'infecté']\n",
      " [0 False 'Haut de France' 'infecté']\n",
      " [1 False 'IDF' 'infecté']\n",
      " [1 False 'Grand Est' 'non infecté']\n",
      " [0 False 'Haut de France' 'infecté']\n",
      " [0 False 'Occitanie' 'non infecté']\n",
      " [1 False 'Provence Alpes Cotes d Azur' 'infecté']\n",
      " [1 False 'Occitanie' 'non infecté']\n",
      " [0 False 'Grand Est' 'infecté']\n",
      " [0 False 'Corse' 'non infecté']\n",
      " [0 False 'Martinique' 'infecté']\n",
      " [1 False 'Occitanie' 'infecté']\n",
      " [0 False 'Provence Alpes Cotes d Azur' 'non infecté']\n",
      " [1 False 'Auvergne Rhone Alpes' 'non infecté']\n",
      " [1 False 'Normandie' 'non infecté']]\n"
     ]
    }
   ],
   "source": [
    "newstate = population3(0.07,0.01,L,0.5)\n",
    "print (newstate)"
   ]
  },
  {
   "cell_type": "code",
   "execution_count": 893,
   "metadata": {},
   "outputs": [],
   "source": [
    "#probabilité que les deux personnes aient un rapport sexuel après la rencontre\n",
    "Prs = 0.9"
   ]
  },
  {
   "cell_type": "code",
   "execution_count": 894,
   "metadata": {},
   "outputs": [],
   "source": [
    "def rapport_sexuel(n,m,Prs):\n",
    "    \n",
    "    if compatibilite(n,m)== 'compatible':\n",
    "       \n",
    "        y=np.random.random()\n",
    "        print(y)\n",
    "        if y <= Prs :\n",
    "            return 'rapport'\n",
    "    return 'non rapport'"
   ]
  },
  {
   "cell_type": "code",
   "execution_count": 895,
   "metadata": {},
   "outputs": [],
   "source": [
    "#pourcentage rapport protégé\n",
    "Prp = 0.1\n",
    "\n"
   ]
  },
  {
   "cell_type": "code",
   "execution_count": 896,
   "metadata": {},
   "outputs": [],
   "source": [
    "def protection(n,m,Prs,Prp):\n",
    "    \n",
    "    if rapport_sexuel(n,m,Prs)== 'rapport':\n",
    "        z=np.random.random()\n",
    "        print(z)\n",
    "        if z <= 0.7:\n",
    "            return 'rapport protégé'\n",
    "        else:\n",
    "            return 'rapport non protégé'\n",
    "    return 'pas de rapport'"
   ]
  },
  {
   "cell_type": "code",
   "execution_count": 897,
   "metadata": {},
   "outputs": [
    {
     "name": "stdout",
     "output_type": "stream",
     "text": [
      "0.6933881146321464\n",
      "0.8843902157727161\n",
      "rapport non protégé\n"
     ]
    }
   ],
   "source": [
    "print(protection(n,m,Prs,Prp))"
   ]
  },
  {
   "cell_type": "code",
   "execution_count": 898,
   "metadata": {},
   "outputs": [],
   "source": [
    "#taux de femmes pratiquant le sexe anal\n",
    "Ts = 0.1"
   ]
  },
  {
   "cell_type": "code",
   "execution_count": 899,
   "metadata": {},
   "outputs": [],
   "source": [
    "#probabilité de transmettre le sida selon le rapport\n",
    "RAR = 0.9\n",
    "RI = 0.9\n",
    "RVR = 0.9\n"
   ]
  },
  {
   "cell_type": "code",
   "execution_count": 900,
   "metadata": {},
   "outputs": [],
   "source": [
    "\n",
    "\n",
    "def sida(i,j,n,m,Prs,RAR,RI,RVR):\n",
    "    (a,b,c,d) = newstate[i]\n",
    "    (e,f,g,h) = newstate[j]\n",
    "    \n",
    "    if protection(n,m,Prs,Prp) == 'rapport non protégé':\n",
    "        \n",
    "        \n",
    "        if newstate[i]==(1,False,_,'infecté') and newstate[j]==(0,False,_,'non infecté'):\n",
    "            s = np.random.random()\n",
    "            if s <= RVR:\n",
    "                return 'femme infectée'\n",
    "        elif newstate[i]==(1,False,_,'non infecté') and newstate[j]==(0,False,_,'infecté'):\n",
    "            s1 = np.random.random()\n",
    "            if s1 <= RI:\n",
    "                return 'homme infecté'\n",
    "                \n",
    "        elif newstate[i]==(0,False,_,'infecté') and newstate[j]==(1,False,_,'non infecté'):\n",
    "            s2 = np.random.random()\n",
    "            if s2 <= RI :\n",
    "                return 'homme infecté'\n",
    "                \n",
    "        elif newstate[i]==(0,False,_,'non infecté') and newstate[j]==(1,False,_,'infecté'):\n",
    "            s3 = np.random.random()\n",
    "            if s3 <= RVR:\n",
    "                return 'femme infectée'\n",
    "    else:\n",
    "        return 'gay'"
   ]
  },
  {
   "cell_type": "code",
   "execution_count": 901,
   "metadata": {},
   "outputs": [
    {
     "name": "stdout",
     "output_type": "stream",
     "text": [
      "1\n"
     ]
    }
   ],
   "source": [
    "print(newstate[0][0])"
   ]
  },
  {
   "cell_type": "code",
   "execution_count": 902,
   "metadata": {},
   "outputs": [
    {
     "name": "stdout",
     "output_type": "stream",
     "text": [
      "0.45325237949494857\n",
      "0.9680466835551726\n"
     ]
    },
    {
     "ename": "ValueError",
     "evalue": "The truth value of an array with more than one element is ambiguous. Use a.any() or a.all()",
     "output_type": "error",
     "traceback": [
      "\u001b[0;31m---------------------------------------------------------------------------\u001b[0m",
      "\u001b[0;31mValueError\u001b[0m                                Traceback (most recent call last)",
      "\u001b[0;32m<ipython-input-902-88a447cf44d5>\u001b[0m in \u001b[0;36m<module>\u001b[0;34m()\u001b[0m\n\u001b[0;32m----> 1\u001b[0;31m \u001b[0mprint\u001b[0m\u001b[0;34m(\u001b[0m\u001b[0msida\u001b[0m\u001b[0;34m(\u001b[0m\u001b[0;36m2\u001b[0m\u001b[0;34m,\u001b[0m\u001b[0;36m13\u001b[0m\u001b[0;34m,\u001b[0m\u001b[0mn\u001b[0m\u001b[0;34m,\u001b[0m\u001b[0mm\u001b[0m\u001b[0;34m,\u001b[0m\u001b[0mPrs\u001b[0m\u001b[0;34m,\u001b[0m\u001b[0mRAR\u001b[0m\u001b[0;34m,\u001b[0m\u001b[0mRI\u001b[0m\u001b[0;34m,\u001b[0m\u001b[0mRVR\u001b[0m\u001b[0;34m)\u001b[0m\u001b[0;34m)\u001b[0m\u001b[0;34m\u001b[0m\u001b[0m\n\u001b[0m",
      "\u001b[0;32m<ipython-input-900-51dc41c44da6>\u001b[0m in \u001b[0;36msida\u001b[0;34m(i, j, n, m, Prs, RAR, RI, RVR)\u001b[0m\n\u001b[1;32m      8\u001b[0m \u001b[0;34m\u001b[0m\u001b[0m\n\u001b[1;32m      9\u001b[0m \u001b[0;34m\u001b[0m\u001b[0m\n\u001b[0;32m---> 10\u001b[0;31m         \u001b[0;32mif\u001b[0m \u001b[0mnewstate\u001b[0m\u001b[0;34m[\u001b[0m\u001b[0mi\u001b[0m\u001b[0;34m]\u001b[0m\u001b[0;34m==\u001b[0m\u001b[0;34m(\u001b[0m\u001b[0;36m1\u001b[0m\u001b[0;34m,\u001b[0m\u001b[0;32mFalse\u001b[0m\u001b[0;34m,\u001b[0m\u001b[0m_\u001b[0m\u001b[0;34m,\u001b[0m\u001b[0;34m'infecté'\u001b[0m\u001b[0;34m)\u001b[0m \u001b[0;32mand\u001b[0m \u001b[0mnewstate\u001b[0m\u001b[0;34m[\u001b[0m\u001b[0mj\u001b[0m\u001b[0;34m]\u001b[0m\u001b[0;34m==\u001b[0m\u001b[0;34m(\u001b[0m\u001b[0;36m0\u001b[0m\u001b[0;34m,\u001b[0m\u001b[0;32mFalse\u001b[0m\u001b[0;34m,\u001b[0m\u001b[0m_\u001b[0m\u001b[0;34m,\u001b[0m\u001b[0;34m'non infecté'\u001b[0m\u001b[0;34m)\u001b[0m\u001b[0;34m:\u001b[0m\u001b[0;34m\u001b[0m\u001b[0m\n\u001b[0m\u001b[1;32m     11\u001b[0m             \u001b[0ms\u001b[0m \u001b[0;34m=\u001b[0m \u001b[0mnp\u001b[0m\u001b[0;34m.\u001b[0m\u001b[0mrandom\u001b[0m\u001b[0;34m.\u001b[0m\u001b[0mrandom\u001b[0m\u001b[0;34m(\u001b[0m\u001b[0;34m)\u001b[0m\u001b[0;34m\u001b[0m\u001b[0m\n\u001b[1;32m     12\u001b[0m             \u001b[0;32mif\u001b[0m \u001b[0ms\u001b[0m \u001b[0;34m<=\u001b[0m \u001b[0mRVR\u001b[0m\u001b[0;34m:\u001b[0m\u001b[0;34m\u001b[0m\u001b[0m\n",
      "\u001b[0;31mValueError\u001b[0m: The truth value of an array with more than one element is ambiguous. Use a.any() or a.all()"
     ]
    }
   ],
   "source": [
    "print(sida(2,13,n,m,Prs,RAR,RI,RVR))"
   ]
  },
  {
   "cell_type": "code",
   "execution_count": 903,
   "metadata": {},
   "outputs": [
    {
     "name": "stdout",
     "output_type": "stream",
     "text": [
      "[1 True 'Provence Alpes Cotes d Azur' 'non infecté']\n"
     ]
    }
   ],
   "source": [
    "print(newstate[14])"
   ]
  },
  {
   "cell_type": "code",
   "execution_count": null,
   "metadata": {},
   "outputs": [],
   "source": []
  },
  {
   "cell_type": "code",
   "execution_count": null,
   "metadata": {},
   "outputs": [],
   "source": []
  },
  {
   "cell_type": "code",
   "execution_count": null,
   "metadata": {},
   "outputs": [],
   "source": []
  },
  {
   "cell_type": "code",
   "execution_count": null,
   "metadata": {},
   "outputs": [],
   "source": []
  },
  {
   "cell_type": "code",
   "execution_count": null,
   "metadata": {},
   "outputs": [],
   "source": []
  }
 ],
 "metadata": {
  "kernelspec": {
   "display_name": "Python 3",
   "language": "python",
   "name": "python3"
  },
  "language_info": {
   "codemirror_mode": {
    "name": "ipython",
    "version": 3
   },
   "file_extension": ".py",
   "mimetype": "text/x-python",
   "name": "python",
   "nbconvert_exporter": "python",
   "pygments_lexer": "ipython3",
   "version": "3.4.2"
  }
 },
 "nbformat": 4,
 "nbformat_minor": 2
}
