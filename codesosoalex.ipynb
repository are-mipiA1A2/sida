{
 "cells": [
  {
   "cell_type": "code",
   "execution_count": 62,
   "metadata": {},
   "outputs": [],
   "source": [
    "import numpy as np\n",
    "import matplotlib.pyplot as plt\n",
    "from random import choice\n"
   ]
  },
  {
   "cell_type": "code",
   "execution_count": 75,
   "metadata": {},
   "outputs": [],
   "source": [
    "N = 100\n",
    "def population(pc_gay, pc_les):\n",
    "    '''\n",
    "    matrice avec individu tuple = (genre,orientation,région,contamination)\n",
    "    '''\n",
    "    if np.random.randint(2)==0:\n",
    "        C=pc_les\n",
    "    else:\n",
    "        C=pc_gay\n",
    "    \n",
    "    state = np.array([(np.random.randint(2),np.random.random()<C) for i in range(100)])\n",
    "    \n",
    "    return state"
   ]
  },
  {
   "cell_type": "code",
   "execution_count": 76,
   "metadata": {},
   "outputs": [],
   "source": [
    "#on entre les pourcentage de gay (7%) et lesbienne (1%)\n",
    "state = population(0.07,0.01)"
   ]
  },
  {
   "cell_type": "code",
   "execution_count": 77,
   "metadata": {},
   "outputs": [
    {
     "name": "stdout",
     "output_type": "stream",
     "text": [
      "[0 0]\n"
     ]
    }
   ],
   "source": [
    "a=(state[np.random.randint(N+1)])\n",
    "print(a)"
   ]
  },
  {
   "cell_type": "code",
   "execution_count": 78,
   "metadata": {},
   "outputs": [
    {
     "name": "stdout",
     "output_type": "stream",
     "text": [
      "[1 0]\n"
     ]
    }
   ],
   "source": [
    "b=(state[np.random.randint(N+1)])\n",
    "print(b)"
   ]
  },
  {
   "cell_type": "code",
   "execution_count": 79,
   "metadata": {},
   "outputs": [],
   "source": [
    "def meeting (state):\n",
    "    return a,b"
   ]
  },
  {
   "cell_type": "code",
   "execution_count": 80,
   "metadata": {},
   "outputs": [
    {
     "name": "stdout",
     "output_type": "stream",
     "text": [
      "(array([0, 0]), array([1, 0]))\n"
     ]
    }
   ],
   "source": [
    "print (meeting(state))"
   ]
  },
  {
   "cell_type": "code",
   "execution_count": 81,
   "metadata": {
    "scrolled": true
   },
   "outputs": [
    {
     "name": "stdout",
     "output_type": "stream",
     "text": [
      "[0 0] [1 0]\n"
     ]
    }
   ],
   "source": [
    "print(a,b)"
   ]
  },
  {
   "cell_type": "code",
   "execution_count": 108,
   "metadata": {},
   "outputs": [
    {
     "name": "stdout",
     "output_type": "stream",
     "text": [
      "compatible\n"
     ]
    }
   ],
   "source": [
    "n,m = meeting(state)\n",
    "def compatibilite(n,m):\n",
    "    \n",
    "    #x défini le genre et y defini lorientation sexuelle \n",
    "    #Pour le genre, femme (0) et homme (1)\n",
    "    #Pour lorientation sexuelle, homosexuel (1) et hétéro(0)\n",
    "    \n",
    "    x1,y1 = n\n",
    "    x2,y2 = m\n",
    "    if y1 == y2 and y1 == 1 :\n",
    "        if x1 == x2 :\n",
    "            return 'compatible'\n",
    "        else : \n",
    "            return 'non compatible'\n",
    "    elif y1==y2 and y1==0:\n",
    "        if x1==x2:\n",
    "            return 'non compatible'\n",
    "        else : \n",
    "            return 'compatible'\n",
    "    elif y1 != y2 :\n",
    "        return 'non compatible'\n",
    "    \n",
    "print(compatibilite(n,m))"
   ]
  },
  {
   "cell_type": "code",
   "execution_count": 411,
   "metadata": {},
   "outputs": [],
   "source": [
    "#probabilité que les deux personnes aient un rapport sexuel après la rencontre\n",
    "Prs = 0.2"
   ]
  },
  {
   "cell_type": "code",
   "execution_count": 412,
   "metadata": {},
   "outputs": [],
   "source": [
    "def rapport_sexuel(n,m,Prs):\n",
    "    \n",
    "    if compatibilite(n,m)== 'compatible':\n",
    "       \n",
    "        y=np.random.random()\n",
    "        print(y)\n",
    "        if y <= Prs :\n",
    "            return 'rapport'\n",
    "    return 'non rapport'     \n",
    "        \n",
    "        "
   ]
  },
  {
   "cell_type": "code",
   "execution_count": 413,
   "metadata": {},
   "outputs": [],
   "source": [
    "#pourcentage rapport protégé\n",
    "Prp = 0.7"
   ]
  },
  {
   "cell_type": "code",
   "execution_count": 414,
   "metadata": {},
   "outputs": [],
   "source": [
    "def protection(n,m,Prs,Prp):\n",
    "    \n",
    "    if rapport_sexuel(n,m,Prs)== 'rapport':\n",
    "        z=np.random.random()\n",
    "        print(z)\n",
    "        if z <= 0.7:\n",
    "            return 'rapport protégé'\n",
    "        else:\n",
    "            return 'rapport non protégé'\n",
    "    return 'pas de rapport'"
   ]
  },
  {
   "cell_type": "code",
   "execution_count": 416,
   "metadata": {},
   "outputs": [
    {
     "name": "stdout",
     "output_type": "stream",
     "text": [
      "0.7263592928837351\n",
      "pas de rapport\n"
     ]
    }
   ],
   "source": [
    "print(protection(n,m,Prs,Prp))"
   ]
  },
  {
   "cell_type": "code",
   "execution_count": null,
   "metadata": {},
   "outputs": [],
   "source": [
    "#taux de femmes pratiquant le sexe anal\n",
    "Ts = 0.1"
   ]
  },
  {
   "cell_type": "code",
   "execution_count": null,
   "metadata": {},
   "outputs": [],
   "source": []
  },
  {
   "cell_type": "code",
   "execution_count": null,
   "metadata": {},
   "outputs": [],
   "source": [
    "def infecte(n,):\n",
    "    "
   ]
  },
  {
   "cell_type": "code",
   "execution_count": 407,
   "metadata": {},
   "outputs": [],
   "source": [
    "#probabilité de transmettre le sida selon le rapport\n",
    "RAR = 0.015\n",
    "RI = 0.0006\n",
    "RVR = 0.0015"
   ]
  },
  {
   "cell_type": "code",
   "execution_count": 408,
   "metadata": {},
   "outputs": [
    {
     "ename": "SyntaxError",
     "evalue": "invalid syntax (<ipython-input-408-eb991dfe9b15>, line 4)",
     "output_type": "error",
     "traceback": [
      "\u001b[0;36m  File \u001b[0;32m\"<ipython-input-408-eb991dfe9b15>\"\u001b[0;36m, line \u001b[0;32m4\u001b[0m\n\u001b[0;31m    if (n=(1,0) and m=(0,0)) or (n=(0,0) and m=(1,0)):\u001b[0m\n\u001b[0m         ^\u001b[0m\n\u001b[0;31mSyntaxError\u001b[0m\u001b[0;31m:\u001b[0m invalid syntax\n"
     ]
    }
   ],
   "source": [
    "def sida(n,m,Prs,RAR,RI,RVR):\n",
    "    \n",
    "    if protection(n,m,Prs,Prp) == 'rapport non protégé':\n",
    "        \n",
    "        if n=(1,0) and m=(0,0):\n",
    "            if infecte(n)=='True' and infecte(m)=='False':\n",
    "                s = np.random.random()\n",
    "                if s <= RVR:\n",
    "                    return 'femme infectée'\n",
    "            elif infecte(m)='True' and infecte(n)=='False':\n",
    "                s1 = np.random.random()\n",
    "                if s1 <= RI:\n",
    "                    return 'homme infecté'\n",
    "                \n",
    "        elif n=(0,0) and m=(1,0):\n",
    "            if infecte(n)== 'True' and infecte(m) == 'False':\n",
    "                s2 = np.random.random()\n",
    "                if s2 <= RI :\n",
    "                    return 'homme infecté'\n",
    "                \n",
    "            elif infecte(n)== 'False' and infecte(m)=='True':\n",
    "                s3 = np.random.random()\n",
    "                if s3 <= RVR:\n",
    "                    return 'femme infectée'\n",
    "                    \n",
    "        \n",
    "                \n",
    "    \n",
    "                \n",
    "               \n",
    "            "
   ]
  },
  {
   "cell_type": "code",
   "execution_count": null,
   "metadata": {},
   "outputs": [],
   "source": []
  },
  {
   "cell_type": "code",
   "execution_count": null,
   "metadata": {},
   "outputs": [],
   "source": []
  },
  {
   "cell_type": "code",
   "execution_count": null,
   "metadata": {},
   "outputs": [],
   "source": []
  },
  {
   "cell_type": "code",
   "execution_count": null,
   "metadata": {},
   "outputs": [],
   "source": []
  },
  {
   "cell_type": "code",
   "execution_count": null,
   "metadata": {},
   "outputs": [],
   "source": []
  },
  {
   "cell_type": "code",
   "execution_count": null,
   "metadata": {},
   "outputs": [],
   "source": []
  },
  {
   "cell_type": "code",
   "execution_count": null,
   "metadata": {},
   "outputs": [],
   "source": []
  }
 ],
 "metadata": {
  "kernelspec": {
   "display_name": "Python 3",
   "language": "python",
   "name": "python3"
  },
  "language_info": {
   "codemirror_mode": {
    "name": "ipython",
    "version": 3
   },
   "file_extension": ".py",
   "mimetype": "text/x-python",
   "name": "python",
   "nbconvert_exporter": "python",
   "pygments_lexer": "ipython3",
   "version": "3.4.2"
  }
 },
 "nbformat": 4,
 "nbformat_minor": 2
}
