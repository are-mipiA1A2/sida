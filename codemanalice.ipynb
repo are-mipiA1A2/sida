{
 "cells": [
  {
   "cell_type": "code",
   "execution_count": 457,
   "metadata": {},
   "outputs": [],
   "source": [
    "import numpy as np\n",
    "import matplotlib.pyplot as plt"
   ]
  },
  {
   "cell_type": "code",
   "execution_count": 458,
   "metadata": {},
   "outputs": [],
   "source": [
    "N = 100\n",
    "def population(pc_gay, pc_les):\n",
    "    '''\n",
    "    matrice avec individu tuple = (genre,orientation,région,contamination)\n",
    "    '''\n",
    "    if np.random.randint(2)==0:\n",
    "        C=pc_les\n",
    "    else:\n",
    "        C=pc_gay\n",
    "    \n",
    "    state = np.array([(np.random.randint(2),np.random.random()<C) for i in range(100)])\n",
    "    \n",
    "    return state\n"
   ]
  },
  {
   "cell_type": "code",
   "execution_count": 459,
   "metadata": {},
   "outputs": [],
   "source": [
    "#on entre les pourcentage de gay (7%) et lesbienne (1%)\n",
    "state = population(0.07,0.01)"
   ]
  },
  {
   "cell_type": "code",
   "execution_count": 460,
   "metadata": {},
   "outputs": [
    {
     "name": "stdout",
     "output_type": "stream",
     "text": [
      "[1 0]\n"
     ]
    }
   ],
   "source": [
    "a=(state[np.random.randint(N+1)])\n",
    "print(a)"
   ]
  },
  {
   "cell_type": "code",
   "execution_count": 461,
   "metadata": {},
   "outputs": [
    {
     "name": "stdout",
     "output_type": "stream",
     "text": [
      "[1 0]\n"
     ]
    }
   ],
   "source": [
    "b=(state[np.random.randint(N+1)])\n",
    "print(b)"
   ]
  },
  {
   "cell_type": "code",
   "execution_count": 462,
   "metadata": {},
   "outputs": [],
   "source": [
    "def meeting (state):\n",
    "    return a,b"
   ]
  },
  {
   "cell_type": "code",
   "execution_count": 463,
   "metadata": {},
   "outputs": [
    {
     "name": "stdout",
     "output_type": "stream",
     "text": [
      "[1 0] [1 0]\n"
     ]
    }
   ],
   "source": [
    "print(a,b)"
   ]
  },
  {
   "cell_type": "code",
   "execution_count": 464,
   "metadata": {},
   "outputs": [
    {
     "name": "stdout",
     "output_type": "stream",
     "text": [
      "(array([1, 0]), array([1, 0]))\n"
     ]
    }
   ],
   "source": [
    "print (meeting(state))"
   ]
  },
  {
   "cell_type": "code",
   "execution_count": 465,
   "metadata": {},
   "outputs": [
    {
     "name": "stdout",
     "output_type": "stream",
     "text": [
      "non compatible\n"
     ]
    }
   ],
   "source": [
    "n,m = meeting(state)\n",
    "def compatibilite(n,m):\n",
    "    \n",
    "    #x défini le genre et y defini lorientation sexuelle \n",
    "    #Pour le genre, femme (0) et homme (1)\n",
    "    #Pour lorientation sexuelle, homosexuel (1) et hétéro(0)\n",
    "    \n",
    "    x1,y1 = n\n",
    "    x2,y2 = m\n",
    "    if y1 == y2 and y1 == 1 :\n",
    "        if x1 == x2 :\n",
    "            return 'compatible'\n",
    "        else : \n",
    "            return 'non compatible'\n",
    "    elif y1==y2 and y1==0:\n",
    "        if x1==x2:\n",
    "            return 'non compatible'\n",
    "        else : \n",
    "            return 'compatible'\n",
    "    elif y1 != y2 :\n",
    "        return 'non compatible'\n",
    "    \n",
    "print(compatibilite(n,m))"
   ]
  },
  {
   "cell_type": "code",
   "execution_count": 466,
   "metadata": {},
   "outputs": [],
   "source": [
    "#on va rajouter un parametre dans la matrice qui est la provenance des regions\n",
    "#on fait une liste de tuple avec les regions et les probabilités de venir de là\n",
    "L = [ ('Haut de France',0.09), ('Grand Est',0.08), ('Normandie',0.05), ('Bretagne', 0.05), ('Pays de la Loire', 0.06), ('Centre Val de Loire',0.04), ('IDF',0.18),('Bourgogne Franche Comté', 0.04), ('Nouvelle Aquitaine', 0.09), ('Auvergne Rhone Alpes',0.12),('Occitanie',0.09), ('Provence Alpes Cotes d Azur',0.07), ('Corse', 0.01), ('Guadeloupe', 0.01), ('Martinique', 0.01), ('Guyane', 0.01), ('Reunion', 0.01), ('Mayotte',0.01) ]"
   ]
  },
  {
   "cell_type": "code",
   "execution_count": 467,
   "metadata": {
    "scrolled": false
   },
   "outputs": [],
   "source": [
    "def provenance (L) :\n",
    "    e=0\n",
    "    i,j=L[e]\n",
    "    s=j\n",
    "    p = np.random.random()\n",
    "\n",
    "    while  p> s:\n",
    "        e=e+1\n",
    "        s = s +L[e][1]\n",
    "    return L[e][0]\n",
    "        "
   ]
  },
  {
   "cell_type": "code",
   "execution_count": 468,
   "metadata": {},
   "outputs": [
    {
     "name": "stdout",
     "output_type": "stream",
     "text": [
      "IDF\n"
     ]
    }
   ],
   "source": [
    "print(provenance(L))"
   ]
  },
  {
   "cell_type": "code",
   "execution_count": 469,
   "metadata": {},
   "outputs": [],
   "source": [
    "N = 100\n",
    "def population2(pc_gay, pc_les, L):\n",
    "    '''\n",
    "    matrice avec individu tuple = (genre,orientation,région)\n",
    "    '''\n",
    "    if np.random.randint(2)==0:\n",
    "        C=pc_les\n",
    "    else:\n",
    "        C=pc_gay\n",
    "        \n",
    "    \n",
    "    state = np.array([(np.random.randint(2),np.random.random()<C, provenance(L)) for i in range(100)])\n",
    "    \n",
    "    return state\n"
   ]
  },
  {
   "cell_type": "code",
   "execution_count": 470,
   "metadata": {},
   "outputs": [],
   "source": [
    "#On va rajouter un autre parametre afin de savoir si la personne est infectee ou non, parametre a rajouter dans la matrice\n",
    "\n",
    "\n",
    "def infection (S) : \n",
    "    if np.random.random() < S:\n",
    "        return 'infecté'\n",
    "    else:\n",
    "        return 'non infecté'\n",
    "        "
   ]
  },
  {
   "cell_type": "code",
   "execution_count": 471,
   "metadata": {},
   "outputs": [],
   "source": [
    "N = 100\n",
    "def population3(pc_gay, pc_les, L,S):\n",
    "    '''\n",
    "    matrice avec individu tuple = (genre,orientation,région,contamination)\n",
    "    '''\n",
    "    if np.random.randint(2)==0:\n",
    "        C=pc_les\n",
    "    else:\n",
    "        C=pc_gay\n",
    "\n",
    "    \n",
    "    state = np.array([(np.random.randint(2),np.random.random()<C, provenance(L), infection(S)) for i in range(100)])\n",
    "    \n",
    "    return state"
   ]
  },
  {
   "cell_type": "code",
   "execution_count": 472,
   "metadata": {},
   "outputs": [
    {
     "name": "stdout",
     "output_type": "stream",
     "text": [
      "[['1' 'False' 'Grand Est' 'non infecté']\n",
      " ['0' 'False' 'IDF' 'non infecté']\n",
      " ['1' 'False' 'IDF' 'non infecté']\n",
      " ['0' 'True' 'Guadeloupe' 'non infecté']\n",
      " ['0' 'False' 'Occitanie' 'non infecté']\n",
      " ['1' 'False' 'Occitanie' 'non infecté']\n",
      " ['1' 'False' 'Pays de la Loire' 'non infecté']\n",
      " ['1' 'False' 'Pays de la Loire' 'non infecté']\n",
      " ['0' 'False' 'Provence Alpes Cotes d Azur' 'non infecté']\n",
      " ['0' 'False' 'Auvergne Rhone Alpes' 'non infecté']\n",
      " ['1' 'False' 'Provence Alpes Cotes d Azur' 'non infecté']\n",
      " ['1' 'False' 'IDF' 'non infecté']\n",
      " ['0' 'False' 'IDF' 'non infecté']\n",
      " ['0' 'False' 'Occitanie' 'non infecté']\n",
      " ['1' 'False' 'Provence Alpes Cotes d Azur' 'non infecté']\n",
      " ['1' 'False' 'Guyane' 'non infecté']\n",
      " ['1' 'False' 'Provence Alpes Cotes d Azur' 'non infecté']\n",
      " ['0' 'False' 'Normandie' 'non infecté']\n",
      " ['1' 'False' 'Nouvelle Aquitaine' 'non infecté']\n",
      " ['0' 'False' 'Bretagne' 'non infecté']\n",
      " ['0' 'False' 'Provence Alpes Cotes d Azur' 'non infecté']\n",
      " ['0' 'False' 'Auvergne Rhone Alpes' 'non infecté']\n",
      " ['1' 'False' 'Haut de France' 'non infecté']\n",
      " ['0' 'True' 'Auvergne Rhone Alpes' 'non infecté']\n",
      " ['0' 'False' 'Haut de France' 'non infecté']\n",
      " ['0' 'False' 'Pays de la Loire' 'non infecté']\n",
      " ['0' 'False' 'Occitanie' 'non infecté']\n",
      " ['1' 'False' 'Provence Alpes Cotes d Azur' 'non infecté']\n",
      " ['0' 'False' 'Occitanie' 'non infecté']\n",
      " ['0' 'False' 'IDF' 'non infecté']\n",
      " ['0' 'False' 'IDF' 'non infecté']\n",
      " ['1' 'False' 'Occitanie' 'non infecté']\n",
      " ['1' 'False' 'Bretagne' 'non infecté']\n",
      " ['1' 'True' 'Provence Alpes Cotes d Azur' 'non infecté']\n",
      " ['0' 'False' 'Auvergne Rhone Alpes' 'non infecté']\n",
      " ['0' 'False' 'Occitanie' 'non infecté']\n",
      " ['0' 'False' 'Occitanie' 'non infecté']\n",
      " ['1' 'False' 'Pays de la Loire' 'non infecté']\n",
      " ['0' 'False' 'Pays de la Loire' 'non infecté']\n",
      " ['0' 'True' 'Haut de France' 'non infecté']\n",
      " ['1' 'False' 'Grand Est' 'non infecté']\n",
      " ['1' 'False' 'Auvergne Rhone Alpes' 'non infecté']\n",
      " ['0' 'False' 'Auvergne Rhone Alpes' 'non infecté']\n",
      " ['0' 'False' 'Normandie' 'non infecté']\n",
      " ['1' 'False' 'Centre Val de Loire' 'non infecté']\n",
      " ['1' 'False' 'Auvergne Rhone Alpes' 'non infecté']\n",
      " ['1' 'False' 'Normandie' 'non infecté']\n",
      " ['0' 'False' 'IDF' 'non infecté']\n",
      " ['0' 'False' 'IDF' 'non infecté']\n",
      " ['1' 'False' 'Nouvelle Aquitaine' 'non infecté']\n",
      " ['0' 'False' 'Occitanie' 'non infecté']\n",
      " ['1' 'True' 'Occitanie' 'non infecté']\n",
      " ['0' 'False' 'Occitanie' 'non infecté']\n",
      " ['0' 'False' 'Guyane' 'non infecté']\n",
      " ['0' 'False' 'Occitanie' 'non infecté']\n",
      " ['1' 'False' 'Pays de la Loire' 'non infecté']\n",
      " ['1' 'False' 'Centre Val de Loire' 'non infecté']\n",
      " ['1' 'False' 'Auvergne Rhone Alpes' 'non infecté']\n",
      " ['1' 'False' 'Grand Est' 'non infecté']\n",
      " ['1' 'False' 'Bretagne' 'non infecté']\n",
      " ['1' 'False' 'IDF' 'non infecté']\n",
      " ['0' 'False' 'Provence Alpes Cotes d Azur' 'non infecté']\n",
      " ['0' 'False' 'Provence Alpes Cotes d Azur' 'non infecté']\n",
      " ['0' 'False' 'Auvergne Rhone Alpes' 'non infecté']\n",
      " ['0' 'False' 'Occitanie' 'non infecté']\n",
      " ['0' 'False' 'Nouvelle Aquitaine' 'non infecté']\n",
      " ['1' 'False' 'IDF' 'non infecté']\n",
      " ['1' 'False' 'IDF' 'non infecté']\n",
      " ['1' 'False' 'IDF' 'non infecté']\n",
      " ['1' 'False' 'Nouvelle Aquitaine' 'non infecté']\n",
      " ['0' 'False' 'Occitanie' 'non infecté']\n",
      " ['1' 'False' 'Grand Est' 'non infecté']\n",
      " ['1' 'False' 'Occitanie' 'non infecté']\n",
      " ['0' 'False' 'Grand Est' 'non infecté']\n",
      " ['1' 'False' 'IDF' 'non infecté']\n",
      " ['0' 'False' 'IDF' 'non infecté']\n",
      " ['1' 'False' 'Grand Est' 'non infecté']\n",
      " ['1' 'True' 'Haut de France' 'non infecté']\n",
      " ['0' 'False' 'IDF' 'non infecté']\n",
      " ['1' 'False' 'Guyane' 'non infecté']\n",
      " ['0' 'True' 'Nouvelle Aquitaine' 'non infecté']\n",
      " ['0' 'True' 'Auvergne Rhone Alpes' 'non infecté']\n",
      " ['0' 'False' 'Normandie' 'non infecté']\n",
      " ['0' 'False' 'Nouvelle Aquitaine' 'non infecté']\n",
      " ['0' 'False' 'IDF' 'non infecté']\n",
      " ['1' 'False' 'Pays de la Loire' 'non infecté']\n",
      " ['1' 'False' 'Occitanie' 'non infecté']\n",
      " ['0' 'False' 'Bourgogne Franche Comté' 'non infecté']\n",
      " ['1' 'False' 'Pays de la Loire' 'non infecté']\n",
      " ['1' 'True' 'Normandie' 'non infecté']\n",
      " ['0' 'False' 'IDF' 'non infecté']\n",
      " ['1' 'True' 'Pays de la Loire' 'non infecté']\n",
      " ['1' 'False' 'Grand Est' 'non infecté']\n",
      " ['1' 'False' 'Haut de France' 'non infecté']\n",
      " ['1' 'False' 'Provence Alpes Cotes d Azur' 'non infecté']\n",
      " ['0' 'False' 'Provence Alpes Cotes d Azur' 'non infecté']\n",
      " ['1' 'False' 'Pays de la Loire' 'non infecté']\n",
      " ['1' 'False' 'Auvergne Rhone Alpes' 'non infecté']\n",
      " ['0' 'False' 'Centre Val de Loire' 'non infecté']\n",
      " ['1' 'False' 'Auvergne Rhone Alpes' 'non infecté']]\n"
     ]
    }
   ],
   "source": [
    "print (population3(0.07,0.01,L,0.00228))"
   ]
  },
  {
   "cell_type": "code",
   "execution_count": null,
   "metadata": {},
   "outputs": [],
   "source": []
  },
  {
   "cell_type": "code",
   "execution_count": null,
   "metadata": {},
   "outputs": [],
   "source": []
  }
 ],
 "metadata": {
  "kernelspec": {
   "display_name": "Python 3",
   "language": "python",
   "name": "python3"
  },
  "language_info": {
   "codemirror_mode": {
    "name": "ipython",
    "version": 3
   },
   "file_extension": ".py",
   "mimetype": "text/x-python",
   "name": "python",
   "nbconvert_exporter": "python",
   "pygments_lexer": "ipython3",
   "version": "3.4.2"
  }
 },
 "nbformat": 4,
 "nbformat_minor": 2
}
