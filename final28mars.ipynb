{
 "cells": [
  {
   "cell_type": "code",
   "execution_count": 1114,
   "metadata": {},
   "outputs": [],
   "source": [
    "import numpy as np\n",
    "import matplotlib.pyplot as plt"
   ]
  },
  {
   "cell_type": "code",
   "execution_count": 1115,
   "metadata": {},
   "outputs": [],
   "source": [
    "N = 100\n",
    "def population(pc_gay, pc_les):\n",
    "    '''\n",
    "    matrice avec individu tuple = (genre,orientation,région,contamination)\n",
    "    '''\n",
    "    if np.random.randint(2)==0:\n",
    "        C=pc_les\n",
    "    else:\n",
    "        C=pc_gay\n",
    "    \n",
    "    state = np.array([(np.random.randint(2),np.random.random()<C) for i in range(100)])\n",
    "    \n",
    "    return state\n"
   ]
  },
  {
   "cell_type": "code",
   "execution_count": 1116,
   "metadata": {},
   "outputs": [],
   "source": [
    "#on entre les pourcentage de gay (7%) et lesbienne (1%)\n",
    "state = population(0.07,0.01)"
   ]
  },
  {
   "cell_type": "code",
   "execution_count": 1117,
   "metadata": {},
   "outputs": [],
   "source": [
    "#on va rajouter un parametre dans la matrice qui est la provenance des regions\n",
    "#on fait une liste de tuple avec les regions et les probabilités de venir de là\n",
    "L = [ ('Haut de France',0.09), ('Grand Est',0.08), ('Normandie',0.05), ('Bretagne', 0.05), ('Pays de la Loire', 0.06), ('Centre Val de Loire',0.04), ('IDF',0.18),('Bourgogne Franche Comté', 0.04), ('Nouvelle Aquitaine', 0.09), ('Auvergne Rhone Alpes',0.12),('Occitanie',0.09), ('Provence Alpes Cotes d Azur',0.07), ('Corse', 0.01), ('Guadeloupe', 0.01), ('Martinique', 0.01), ('Guyane', 0.01), ('Reunion', 0.01), ('Mayotte',0.01) ]"
   ]
  },
  {
   "cell_type": "code",
   "execution_count": 1118,
   "metadata": {
    "scrolled": false
   },
   "outputs": [],
   "source": [
    "def provenance (L) :\n",
    "    e=0\n",
    "    i,j=L[e]\n",
    "    s=j\n",
    "    p = np.random.random()\n",
    "\n",
    "    while  p> s:\n",
    "        e=e+1\n",
    "        s = s +L[e][1]\n",
    "    return L[e][0]\n",
    "        "
   ]
  },
  {
   "cell_type": "code",
   "execution_count": 1119,
   "metadata": {},
   "outputs": [
    {
     "name": "stdout",
     "output_type": "stream",
     "text": [
      "Occitanie\n"
     ]
    }
   ],
   "source": [
    "print(provenance(L))"
   ]
  },
  {
   "cell_type": "code",
   "execution_count": 1120,
   "metadata": {},
   "outputs": [],
   "source": [
    "N = 100\n",
    "def population2(pc_gay, pc_les, L):\n",
    "    '''\n",
    "    matrice avec individu tuple = (genre,orientation,région)\n",
    "    '''\n",
    "    if np.random.randint(2)==0:\n",
    "        C=pc_les\n",
    "    else:\n",
    "        C=pc_gay\n",
    "        \n",
    "    \n",
    "    state = np.array([(np.random.randint(2),np.random.random()<C, provenance(L)) for i in range(100)])\n",
    "    \n",
    "    return state\n"
   ]
  },
  {
   "cell_type": "code",
   "execution_count": 1121,
   "metadata": {},
   "outputs": [],
   "source": [
    "#On va rajouter un autre parametre afin de savoir si la personne est infectee ou non, parametre a rajouter dans la matrice\n",
    "\n",
    "\n",
    "def infection (S) : \n",
    "    if np.random.random() < S:\n",
    "        return 'infecté'\n",
    "    else:\n",
    "        return 'non infecté'\n",
    "        "
   ]
  },
  {
   "cell_type": "code",
   "execution_count": 1122,
   "metadata": {},
   "outputs": [],
   "source": [
    "N = 100\n",
    "def population3(pc_gay, pc_les, L,S):\n",
    "    '''\n",
    "    matrice avec individu tuple = (genre,orientation,région,contamination)\n",
    "    '''\n",
    "    if np.random.randint(2)==0:\n",
    "        C=pc_les\n",
    "    else:\n",
    "        C=pc_gay\n",
    "\n",
    "    \n",
    "    state = np.array([(np.random.randint(2),np.random.random()<C, provenance(L), infection(S)) for i in range(100)], dtype=object)\n",
    "    \n",
    "    return state"
   ]
  },
  {
   "cell_type": "code",
   "execution_count": 1123,
   "metadata": {},
   "outputs": [
    {
     "name": "stdout",
     "output_type": "stream",
     "text": [
      "[[0 False 'Occitanie' 'non infecté']\n",
      " [1 False 'Guyane' 'non infecté']\n",
      " [0 False 'Nouvelle Aquitaine' 'non infecté']\n",
      " [0 False 'Pays de la Loire' 'non infecté']\n",
      " [0 False 'Auvergne Rhone Alpes' 'non infecté']\n",
      " [0 False 'Haut de France' 'non infecté']\n",
      " [0 False 'Provence Alpes Cotes d Azur' 'non infecté']\n",
      " [1 False 'Grand Est' 'non infecté']\n",
      " [1 False 'Grand Est' 'non infecté']\n",
      " [1 False 'Haut de France' 'non infecté']\n",
      " [0 False 'Pays de la Loire' 'non infecté']\n",
      " [1 False 'Pays de la Loire' 'non infecté']\n",
      " [1 False 'Bretagne' 'non infecté']\n",
      " [1 False 'Haut de France' 'non infecté']\n",
      " [0 False 'Normandie' 'non infecté']\n",
      " [1 False 'Pays de la Loire' 'non infecté']\n",
      " [0 False 'IDF' 'non infecté']\n",
      " [1 False 'Guyane' 'non infecté']\n",
      " [0 False 'Auvergne Rhone Alpes' 'non infecté']\n",
      " [0 False 'Bretagne' 'non infecté']\n",
      " [1 False 'Auvergne Rhone Alpes' 'non infecté']\n",
      " [0 False 'Occitanie' 'non infecté']\n",
      " [1 False 'Haut de France' 'non infecté']\n",
      " [1 False 'Occitanie' 'non infecté']\n",
      " [0 False 'IDF' 'non infecté']\n",
      " [1 False 'Bourgogne Franche Comté' 'non infecté']\n",
      " [0 False 'Occitanie' 'non infecté']\n",
      " [0 False 'Auvergne Rhone Alpes' 'non infecté']\n",
      " [0 False 'Nouvelle Aquitaine' 'non infecté']\n",
      " [0 False 'Grand Est' 'non infecté']\n",
      " [0 False 'IDF' 'non infecté']\n",
      " [0 False 'Bretagne' 'non infecté']\n",
      " [0 False 'Haut de France' 'non infecté']\n",
      " [1 False 'Occitanie' 'non infecté']\n",
      " [1 False 'Pays de la Loire' 'non infecté']\n",
      " [0 False 'Haut de France' 'non infecté']\n",
      " [0 False 'Grand Est' 'non infecté']\n",
      " [1 False 'Nouvelle Aquitaine' 'non infecté']\n",
      " [1 False 'IDF' 'non infecté']\n",
      " [0 False 'Nouvelle Aquitaine' 'non infecté']\n",
      " [1 False 'Centre Val de Loire' 'non infecté']\n",
      " [1 False 'Auvergne Rhone Alpes' 'non infecté']\n",
      " [1 False 'Haut de France' 'non infecté']\n",
      " [0 False 'Auvergne Rhone Alpes' 'non infecté']\n",
      " [0 False 'Bretagne' 'non infecté']\n",
      " [0 False 'IDF' 'non infecté']\n",
      " [1 False 'IDF' 'non infecté']\n",
      " [0 False 'Occitanie' 'non infecté']\n",
      " [1 False 'Auvergne Rhone Alpes' 'non infecté']\n",
      " [0 False 'Normandie' 'non infecté']\n",
      " [0 False 'Auvergne Rhone Alpes' 'non infecté']\n",
      " [0 False 'Provence Alpes Cotes d Azur' 'non infecté']\n",
      " [0 False 'Occitanie' 'non infecté']\n",
      " [0 False 'Centre Val de Loire' 'non infecté']\n",
      " [0 False 'Haut de France' 'non infecté']\n",
      " [1 False 'Auvergne Rhone Alpes' 'infecté']\n",
      " [0 False 'Haut de France' 'non infecté']\n",
      " [0 False 'Provence Alpes Cotes d Azur' 'non infecté']\n",
      " [0 False 'IDF' 'non infecté']\n",
      " [1 False 'Nouvelle Aquitaine' 'non infecté']\n",
      " [1 False 'Pays de la Loire' 'non infecté']\n",
      " [1 False 'Occitanie' 'non infecté']\n",
      " [0 False 'Occitanie' 'non infecté']\n",
      " [0 False 'Grand Est' 'non infecté']\n",
      " [0 False 'IDF' 'non infecté']\n",
      " [0 False 'Pays de la Loire' 'non infecté']\n",
      " [0 False 'IDF' 'non infecté']\n",
      " [1 False 'Guadeloupe' 'non infecté']\n",
      " [1 False 'IDF' 'non infecté']\n",
      " [0 False 'IDF' 'non infecté']\n",
      " [0 False 'Provence Alpes Cotes d Azur' 'non infecté']\n",
      " [1 False 'Auvergne Rhone Alpes' 'non infecté']\n",
      " [0 False 'Auvergne Rhone Alpes' 'non infecté']\n",
      " [1 False 'Nouvelle Aquitaine' 'non infecté']\n",
      " [1 False 'IDF' 'non infecté']\n",
      " [1 False 'Auvergne Rhone Alpes' 'non infecté']\n",
      " [0 False 'Occitanie' 'non infecté']\n",
      " [0 False 'Provence Alpes Cotes d Azur' 'non infecté']\n",
      " [0 False 'Occitanie' 'non infecté']\n",
      " [0 False 'Pays de la Loire' 'non infecté']\n",
      " [1 False 'IDF' 'non infecté']\n",
      " [1 False 'Centre Val de Loire' 'non infecté']\n",
      " [1 False 'Bourgogne Franche Comté' 'non infecté']\n",
      " [1 False 'IDF' 'non infecté']\n",
      " [1 False 'Guyane' 'non infecté']\n",
      " [1 False 'Nouvelle Aquitaine' 'non infecté']\n",
      " [1 False 'Bretagne' 'non infecté']\n",
      " [0 False 'Grand Est' 'non infecté']\n",
      " [1 False 'Nouvelle Aquitaine' 'non infecté']\n",
      " [0 False 'Bourgogne Franche Comté' 'non infecté']\n",
      " [1 False 'Provence Alpes Cotes d Azur' 'non infecté']\n",
      " [1 False 'Occitanie' 'non infecté']\n",
      " [1 True 'Haut de France' 'non infecté']\n",
      " [0 False 'Bretagne' 'non infecté']\n",
      " [1 False 'Centre Val de Loire' 'non infecté']\n",
      " [0 False 'Martinique' 'non infecté']\n",
      " [0 False 'Haut de France' 'non infecté']\n",
      " [0 False 'IDF' 'non infecté']\n",
      " [0 False 'Centre Val de Loire' 'non infecté']\n",
      " [1 False 'Bretagne' 'non infecté']]\n"
     ]
    }
   ],
   "source": [
    "print (population3(0.07,0.01,L,0.00228))"
   ]
  },
  {
   "cell_type": "code",
   "execution_count": 1124,
   "metadata": {},
   "outputs": [
    {
     "name": "stdout",
     "output_type": "stream",
     "text": [
      "[[0 False 'Occitanie' 'infecté']\n",
      " [0 False 'Occitanie' 'infecté']\n",
      " [1 False 'Auvergne Rhone Alpes' 'infecté']\n",
      " [0 False 'Martinique' 'non infecté']\n",
      " [1 False 'IDF' 'infecté']\n",
      " [1 False 'IDF' 'infecté']\n",
      " [1 False 'Bourgogne Franche Comté' 'non infecté']\n",
      " [1 False 'IDF' 'infecté']\n",
      " [0 False 'IDF' 'non infecté']\n",
      " [0 False 'Auvergne Rhone Alpes' 'non infecté']\n",
      " [0 False 'Nouvelle Aquitaine' 'infecté']\n",
      " [0 False 'Auvergne Rhone Alpes' 'non infecté']\n",
      " [1 False 'Nouvelle Aquitaine' 'non infecté']\n",
      " [0 False 'Occitanie' 'non infecté']\n",
      " [0 False 'Auvergne Rhone Alpes' 'non infecté']\n",
      " [1 False 'Corse' 'infecté']\n",
      " [1 False 'Guyane' 'infecté']\n",
      " [1 False 'IDF' 'non infecté']\n",
      " [1 False 'Occitanie' 'non infecté']\n",
      " [0 True 'Pays de la Loire' 'non infecté']\n",
      " [0 False 'Haut de France' 'non infecté']\n",
      " [1 False 'Nouvelle Aquitaine' 'non infecté']\n",
      " [0 False 'Haut de France' 'infecté']\n",
      " [1 False 'Grand Est' 'infecté']\n",
      " [1 False 'Auvergne Rhone Alpes' 'non infecté']\n",
      " [1 False 'Auvergne Rhone Alpes' 'infecté']\n",
      " [1 False 'Auvergne Rhone Alpes' 'infecté']\n",
      " [1 False 'Grand Est' 'infecté']\n",
      " [1 False 'Auvergne Rhone Alpes' 'infecté']\n",
      " [1 False 'Centre Val de Loire' 'non infecté']\n",
      " [1 False 'Pays de la Loire' 'non infecté']\n",
      " [1 False 'Grand Est' 'infecté']\n",
      " [0 False 'Provence Alpes Cotes d Azur' 'non infecté']\n",
      " [0 False 'Grand Est' 'infecté']\n",
      " [0 False 'Occitanie' 'non infecté']\n",
      " [1 False 'Occitanie' 'non infecté']\n",
      " [0 False 'Grand Est' 'non infecté']\n",
      " [0 False 'Grand Est' 'non infecté']\n",
      " [0 False 'Pays de la Loire' 'non infecté']\n",
      " [0 False 'Bretagne' 'non infecté']\n",
      " [1 False 'Centre Val de Loire' 'non infecté']\n",
      " [1 False 'Auvergne Rhone Alpes' 'non infecté']\n",
      " [1 False 'Auvergne Rhone Alpes' 'infecté']\n",
      " [0 False 'Occitanie' 'infecté']\n",
      " [0 False 'Haut de France' 'non infecté']\n",
      " [1 False 'Auvergne Rhone Alpes' 'non infecté']\n",
      " [0 False 'Centre Val de Loire' 'infecté']\n",
      " [1 False 'Normandie' 'non infecté']\n",
      " [0 False 'IDF' 'non infecté']\n",
      " [0 False 'Grand Est' 'non infecté']\n",
      " [1 False 'Grand Est' 'non infecté']\n",
      " [0 False 'Haut de France' 'infecté']\n",
      " [0 False 'IDF' 'infecté']\n",
      " [0 False 'Grand Est' 'non infecté']\n",
      " [0 False 'Grand Est' 'non infecté']\n",
      " [1 False 'IDF' 'non infecté']\n",
      " [1 False 'Nouvelle Aquitaine' 'infecté']\n",
      " [0 False 'Occitanie' 'infecté']\n",
      " [1 False 'Grand Est' 'non infecté']\n",
      " [1 False 'IDF' 'infecté']\n",
      " [0 False 'Provence Alpes Cotes d Azur' 'non infecté']\n",
      " [0 False 'Auvergne Rhone Alpes' 'infecté']\n",
      " [1 False 'Nouvelle Aquitaine' 'infecté']\n",
      " [1 False 'Nouvelle Aquitaine' 'non infecté']\n",
      " [0 False 'Corse' 'non infecté']\n",
      " [1 True 'Grand Est' 'infecté']\n",
      " [0 False 'IDF' 'infecté']\n",
      " [0 False 'Nouvelle Aquitaine' 'non infecté']\n",
      " [0 False 'IDF' 'non infecté']\n",
      " [0 False 'Haut de France' 'infecté']\n",
      " [0 False 'Nouvelle Aquitaine' 'non infecté']\n",
      " [0 False 'IDF' 'non infecté']\n",
      " [1 False 'IDF' 'non infecté']\n",
      " [0 False 'Provence Alpes Cotes d Azur' 'non infecté']\n",
      " [0 False 'Occitanie' 'infecté']\n",
      " [0 False 'Normandie' 'non infecté']\n",
      " [1 False 'Normandie' 'infecté']\n",
      " [1 False 'Occitanie' 'infecté']\n",
      " [1 False 'Bretagne' 'non infecté']\n",
      " [0 False 'Pays de la Loire' 'infecté']\n",
      " [0 False 'Occitanie' 'infecté']\n",
      " [0 False 'IDF' 'infecté']\n",
      " [0 False 'Nouvelle Aquitaine' 'infecté']\n",
      " [0 False 'IDF' 'infecté']\n",
      " [0 False 'Haut de France' 'non infecté']\n",
      " [0 False 'Occitanie' 'non infecté']\n",
      " [0 False 'Nouvelle Aquitaine' 'non infecté']\n",
      " [0 False 'Pays de la Loire' 'infecté']\n",
      " [0 False 'Auvergne Rhone Alpes' 'non infecté']\n",
      " [1 False 'Haut de France' 'non infecté']\n",
      " [1 False 'IDF' 'non infecté']\n",
      " [0 False 'Auvergne Rhone Alpes' 'infecté']\n",
      " [0 False 'Nouvelle Aquitaine' 'infecté']\n",
      " [0 False 'Normandie' 'non infecté']\n",
      " [1 False 'Auvergne Rhone Alpes' 'infecté']\n",
      " [0 False 'Bourgogne Franche Comté' 'non infecté']\n",
      " [1 False 'Haut de France' 'non infecté']\n",
      " [0 False 'Grand Est' 'infecté']\n",
      " [0 False 'IDF' 'non infecté']\n",
      " [0 False 'Auvergne Rhone Alpes' 'infecté']]\n"
     ]
    }
   ],
   "source": [
    "newstate = population3(0.07,0.01,L,0.5)\n",
    "print (newstate)"
   ]
  },
  {
   "cell_type": "code",
   "execution_count": 1125,
   "metadata": {},
   "outputs": [
    {
     "name": "stdout",
     "output_type": "stream",
     "text": [
      "[0 False 'IDF' 'infecté']\n"
     ]
    }
   ],
   "source": [
    "ligne_a=np.random.randint(N+1)\n",
    "a=(newstate[ligne_a])\n",
    "print(a)\n"
   ]
  },
  {
   "cell_type": "code",
   "execution_count": 1126,
   "metadata": {},
   "outputs": [
    {
     "name": "stdout",
     "output_type": "stream",
     "text": [
      "[0 False 'Bourgogne Franche Comté' 'non infecté']\n"
     ]
    }
   ],
   "source": [
    "ligne_b=np.random.randint(N+1)\n",
    "b=(newstate[ligne_b])\n",
    "print(b)"
   ]
  },
  {
   "cell_type": "code",
   "execution_count": 1127,
   "metadata": {},
   "outputs": [
    {
     "name": "stdout",
     "output_type": "stream",
     "text": [
      "non compatible\n"
     ]
    }
   ],
   "source": [
    "def compatibilite(a,b):\n",
    "    \n",
    "    #x défini le genre et y defini lorientation sexuelle \n",
    "    #Pour le genre, femme (0) et homme (1)\n",
    "    #Pour lorientation sexuelle, homosexuel (1) et hétéro(0)\n",
    "    \n",
    "    x1,y1,c,d = a\n",
    "    x2,y2,j,k = b\n",
    "    if y1 == y2 and y1 == 1 :\n",
    "        if x1 == x2 :\n",
    "            return 'compatible'\n",
    "        else : \n",
    "            return 'non compatible'\n",
    "    elif y1==y2 and y1==0:\n",
    "        if x1==x2:\n",
    "            return 'non compatible'\n",
    "        else : \n",
    "            return 'compatible'\n",
    "    elif y1 != y2 :\n",
    "        return 'non compatible'\n",
    "    \n",
    "print(compatibilite(newstate[10],newstate[11]))"
   ]
  },
  {
   "cell_type": "code",
   "execution_count": 1128,
   "metadata": {},
   "outputs": [],
   "source": [
    "#probabilité que les deux personnes aient un rapport sexuel après la rencontre\n",
    "Prs = 0.9"
   ]
  },
  {
   "cell_type": "code",
   "execution_count": 1129,
   "metadata": {},
   "outputs": [],
   "source": [
    "\n",
    "\n",
    "\n",
    "def rapport_sexuel(a,b,Prs,newstate):\n",
    "    \n",
    "    \n",
    "    (ya,zb,c,d) = a\n",
    "    (e,f,g,h) = b\n",
    "    \n",
    "    \n",
    "    if compatibilite(a,b)== 'compatible' and (_,_,c,_)==(_,_,g,_):\n",
    "       \n",
    "        y=np.random.random()\n",
    "        #print(y)\n",
    "        if y <= Prs :\n",
    "            return 'rapport'\n",
    "    return 'non rapport'"
   ]
  },
  {
   "cell_type": "code",
   "execution_count": 1130,
   "metadata": {},
   "outputs": [],
   "source": [
    "#pourcentage rapport protégé\n",
    "Prp = 0.1\n",
    "\n"
   ]
  },
  {
   "cell_type": "code",
   "execution_count": 1131,
   "metadata": {},
   "outputs": [],
   "source": [
    "def protection(a,b,Prs,Prp,newstate):\n",
    "    \n",
    "    if rapport_sexuel(a,b,Prs,newstate)== 'rapport':\n",
    "        z=np.random.random()\n",
    "        \n",
    "        if z <= Prp:\n",
    "            return 'rapport protégé'\n",
    "        else:\n",
    "            return 'rapport non protégé'\n",
    "    return 'pas de rapport'"
   ]
  },
  {
   "cell_type": "code",
   "execution_count": 1132,
   "metadata": {},
   "outputs": [
    {
     "name": "stdout",
     "output_type": "stream",
     "text": [
      "pas de rapport\n"
     ]
    }
   ],
   "source": [
    "print(protection(newstate[4],newstate[6],Prs,Prp,newstate))"
   ]
  },
  {
   "cell_type": "code",
   "execution_count": 1133,
   "metadata": {},
   "outputs": [],
   "source": [
    "#taux de femmes pratiquant le sexe anal\n",
    "Ts = 0.1"
   ]
  },
  {
   "cell_type": "code",
   "execution_count": 1134,
   "metadata": {},
   "outputs": [],
   "source": [
    "#probabilité de transmettre le sida selon le rapport\n",
    "import random\n",
    "\n",
    "RAR = 0.9\n",
    "RI = 0.9\n",
    "RVR = 0.9\n"
   ]
  },
  {
   "cell_type": "code",
   "execution_count": 1135,
   "metadata": {},
   "outputs": [
    {
     "name": "stdout",
     "output_type": "stream",
     "text": [
      "[0 False 'Auvergne Rhone Alpes' 'non infecté']\n"
     ]
    }
   ],
   "source": [
    "print(newstate[14])"
   ]
  },
  {
   "cell_type": "code",
   "execution_count": 1136,
   "metadata": {},
   "outputs": [],
   "source": [
    "\n",
    "def sida(a,b,Prs,RAR,RI,RVR,newstate):\n",
    "    \n",
    "    print(a,b)\n",
    "    protege = protection(a,b,Prs,Prp,newstate)\n",
    "    print(protege)\n",
    "    (ya,zb,_,d) = a\n",
    "    (e,f,_,h) = b\n",
    "    \n",
    "    if protege == 'rapport non protégé':\n",
    "        print(\"non protégé\")\n",
    "        \n",
    "        \n",
    "        if (ya,zb,_,d) ==(1,False,_,'infecté') and (e,f,_,h)==(0,False,_,'non infecté'):\n",
    "            s = random.random()\n",
    "            print('r')\n",
    "            if s <= RVR:\n",
    "                newstate[ligne_b]=(0,False,_,'infecté')\n",
    "                return newstate                         #'femme infectée'\n",
    "        elif (ya,zb,_,d)==(1,False,_,'non infecté') and (e,f,_,h)==(0,False,_,'infecté'):\n",
    "            s1 = random.random()\n",
    "            print('r')\n",
    "            print(s1)\n",
    "            if s1 <= RI:\n",
    "                newstate[ligne_a]=(1,False,_,'infecté')\n",
    "                return newstate                                        #'homme infecté'\n",
    "                \n",
    "        elif (ya,zb,_,d) ==(0,False,_,'infecté') and (e,f,_,h)==(1,False,_,'non infecté'):\n",
    "            s2 = random.random()\n",
    "            print('r')\n",
    "            if s2 <= RI:\n",
    "                newstate[ligne_b]=(1,False,_,'infecté')\n",
    "                return newstate                                #'homme infecté'\n",
    "                \n",
    "        elif (ya,zb,_,d) ==(0,False,_,'non infecté') and (e,f,_,h)==(1,False,_,'infecté'):\n",
    "            s3 = random.random()\n",
    "            print('r')\n",
    "            if s3 <= RVR:\n",
    "                newstate[ligne_a]=(0,False,_,'infecté')\n",
    "                return newstate                                   #'femme infectée'\n",
    "    return "
   ]
  },
  {
   "cell_type": "code",
   "execution_count": 1137,
   "metadata": {},
   "outputs": [
    {
     "name": "stdout",
     "output_type": "stream",
     "text": [
      "True\n"
     ]
    }
   ],
   "source": [
    "s = np.random.random()\n",
    "print(np.any(s<=RVR))\n"
   ]
  },
  {
   "cell_type": "code",
   "execution_count": 1138,
   "metadata": {
    "scrolled": true
   },
   "outputs": [
    {
     "name": "stdout",
     "output_type": "stream",
     "text": [
      "[0 False 'IDF' 'infecté'] [0 False 'Bourgogne Franche Comté' 'non infecté']\n",
      "pas de rapport\n"
     ]
    }
   ],
   "source": [
    "\n",
    "print(a,b)\n",
    "print(protection(a,b,Prs,Prp,newstate))\n"
   ]
  },
  {
   "cell_type": "code",
   "execution_count": 1139,
   "metadata": {
    "scrolled": true
   },
   "outputs": [
    {
     "name": "stdout",
     "output_type": "stream",
     "text": [
      "[0 False 'IDF' 'infecté'] [0 False 'Bourgogne Franche Comté' 'non infecté']\n",
      "pas de rapport\n",
      "None\n"
     ]
    }
   ],
   "source": [
    "print(sida(a,b,Prs,RAR,RI,RVR,newstate))"
   ]
  },
  {
   "cell_type": "code",
   "execution_count": 1140,
   "metadata": {},
   "outputs": [
    {
     "name": "stdout",
     "output_type": "stream",
     "text": [
      "[0 False 'IDF' 'infecté'] [0 False 'Bourgogne Franche Comté' 'non infecté']\n",
      "pas de rapport\n"
     ]
    },
    {
     "data": {
      "text/plain": [
       "numpy.ndarray"
      ]
     },
     "execution_count": 1140,
     "metadata": {},
     "output_type": "execute_result"
    }
   ],
   "source": [
    "sida(a,b,Prs,RAR,RI,RVR,newstate)\n",
    "type(a)"
   ]
  },
  {
   "cell_type": "code",
   "execution_count": 1141,
   "metadata": {},
   "outputs": [
    {
     "name": "stdout",
     "output_type": "stream",
     "text": [
      "[1 False 'IDF' 'infecté'] [1 False 'Bourgogne Franche Comté' 'non infecté']\n",
      "pas de rapport\n",
      "None\n"
     ]
    }
   ],
   "source": [
    "print(sida(newstate[4],newstate[6],Prs,RAR,RI,RVR,newstate))\n",
    "    \n",
    "    "
   ]
  },
  {
   "cell_type": "code",
   "execution_count": 1142,
   "metadata": {},
   "outputs": [
    {
     "name": "stdout",
     "output_type": "stream",
     "text": [
      "[[0 False 'Occitanie' 'infecté']\n",
      " [0 False 'Occitanie' 'infecté']\n",
      " [1 False 'Auvergne Rhone Alpes' 'infecté']\n",
      " [0 False 'Martinique' 'non infecté']\n",
      " [1 False 'IDF' 'infecté']\n",
      " [1 False 'IDF' 'infecté']\n",
      " [1 False 'Bourgogne Franche Comté' 'non infecté']\n",
      " [1 False 'IDF' 'infecté']\n",
      " [0 False 'IDF' 'non infecté']\n",
      " [0 False 'Auvergne Rhone Alpes' 'non infecté']\n",
      " [0 False 'Nouvelle Aquitaine' 'infecté']\n",
      " [0 False 'Auvergne Rhone Alpes' 'non infecté']\n",
      " [1 False 'Nouvelle Aquitaine' 'non infecté']\n",
      " [0 False 'Occitanie' 'non infecté']\n",
      " [0 False 'Auvergne Rhone Alpes' 'non infecté']\n",
      " [1 False 'Corse' 'infecté']\n",
      " [1 False 'Guyane' 'infecté']\n",
      " [1 False 'IDF' 'non infecté']\n",
      " [1 False 'Occitanie' 'non infecté']\n",
      " [0 True 'Pays de la Loire' 'non infecté']\n",
      " [0 False 'Haut de France' 'non infecté']\n",
      " [1 False 'Nouvelle Aquitaine' 'non infecté']\n",
      " [0 False 'Haut de France' 'infecté']\n",
      " [1 False 'Grand Est' 'infecté']\n",
      " [1 False 'Auvergne Rhone Alpes' 'non infecté']\n",
      " [1 False 'Auvergne Rhone Alpes' 'infecté']\n",
      " [1 False 'Auvergne Rhone Alpes' 'infecté']\n",
      " [1 False 'Grand Est' 'infecté']\n",
      " [1 False 'Auvergne Rhone Alpes' 'infecté']\n",
      " [1 False 'Centre Val de Loire' 'non infecté']\n",
      " [1 False 'Pays de la Loire' 'non infecté']\n",
      " [1 False 'Grand Est' 'infecté']\n",
      " [0 False 'Provence Alpes Cotes d Azur' 'non infecté']\n",
      " [0 False 'Grand Est' 'infecté']\n",
      " [0 False 'Occitanie' 'non infecté']\n",
      " [1 False 'Occitanie' 'non infecté']\n",
      " [0 False 'Grand Est' 'non infecté']\n",
      " [0 False 'Grand Est' 'non infecté']\n",
      " [0 False 'Pays de la Loire' 'non infecté']\n",
      " [0 False 'Bretagne' 'non infecté']\n",
      " [1 False 'Centre Val de Loire' 'non infecté']\n",
      " [1 False 'Auvergne Rhone Alpes' 'non infecté']\n",
      " [1 False 'Auvergne Rhone Alpes' 'infecté']\n",
      " [0 False 'Occitanie' 'infecté']\n",
      " [0 False 'Haut de France' 'non infecté']\n",
      " [1 False 'Auvergne Rhone Alpes' 'non infecté']\n",
      " [0 False 'Centre Val de Loire' 'infecté']\n",
      " [1 False 'Normandie' 'non infecté']\n",
      " [0 False 'IDF' 'non infecté']\n",
      " [0 False 'Grand Est' 'non infecté']\n",
      " [1 False 'Grand Est' 'non infecté']\n",
      " [0 False 'Haut de France' 'infecté']\n",
      " [0 False 'IDF' 'infecté']\n",
      " [0 False 'Grand Est' 'non infecté']\n",
      " [0 False 'Grand Est' 'non infecté']\n",
      " [1 False 'IDF' 'non infecté']\n",
      " [1 False 'Nouvelle Aquitaine' 'infecté']\n",
      " [0 False 'Occitanie' 'infecté']\n",
      " [1 False 'Grand Est' 'non infecté']\n",
      " [1 False 'IDF' 'infecté']\n",
      " [0 False 'Provence Alpes Cotes d Azur' 'non infecté']\n",
      " [0 False 'Auvergne Rhone Alpes' 'infecté']\n",
      " [1 False 'Nouvelle Aquitaine' 'infecté']\n",
      " [1 False 'Nouvelle Aquitaine' 'non infecté']\n",
      " [0 False 'Corse' 'non infecté']\n",
      " [1 True 'Grand Est' 'infecté']\n",
      " [0 False 'IDF' 'infecté']\n",
      " [0 False 'Nouvelle Aquitaine' 'non infecté']\n",
      " [0 False 'IDF' 'non infecté']\n",
      " [0 False 'Haut de France' 'infecté']\n",
      " [0 False 'Nouvelle Aquitaine' 'non infecté']\n",
      " [0 False 'IDF' 'non infecté']\n",
      " [1 False 'IDF' 'non infecté']\n",
      " [0 False 'Provence Alpes Cotes d Azur' 'non infecté']\n",
      " [0 False 'Occitanie' 'infecté']\n",
      " [0 False 'Normandie' 'non infecté']\n",
      " [1 False 'Normandie' 'infecté']\n",
      " [1 False 'Occitanie' 'infecté']\n",
      " [1 False 'Bretagne' 'non infecté']\n",
      " [0 False 'Pays de la Loire' 'infecté']\n",
      " [0 False 'Occitanie' 'infecté']\n",
      " [0 False 'IDF' 'infecté']\n",
      " [0 False 'Nouvelle Aquitaine' 'infecté']\n",
      " [0 False 'IDF' 'infecté']\n",
      " [0 False 'Haut de France' 'non infecté']\n",
      " [0 False 'Occitanie' 'non infecté']\n",
      " [0 False 'Nouvelle Aquitaine' 'non infecté']\n",
      " [0 False 'Pays de la Loire' 'infecté']\n",
      " [0 False 'Auvergne Rhone Alpes' 'non infecté']\n",
      " [1 False 'Haut de France' 'non infecté']\n",
      " [1 False 'IDF' 'non infecté']\n",
      " [0 False 'Auvergne Rhone Alpes' 'infecté']\n",
      " [0 False 'Nouvelle Aquitaine' 'infecté']\n",
      " [0 False 'Normandie' 'non infecté']\n",
      " [1 False 'Auvergne Rhone Alpes' 'infecté']\n",
      " [0 False 'Bourgogne Franche Comté' 'non infecté']\n",
      " [1 False 'Haut de France' 'non infecté']\n",
      " [0 False 'Grand Est' 'infecté']\n",
      " [0 False 'IDF' 'non infecté']\n",
      " [0 False 'Auvergne Rhone Alpes' 'infecté']]\n"
     ]
    }
   ],
   "source": [
    "print(newstate)"
   ]
  },
  {
   "cell_type": "code",
   "execution_count": null,
   "metadata": {},
   "outputs": [],
   "source": []
  },
  {
   "cell_type": "code",
   "execution_count": null,
   "metadata": {},
   "outputs": [],
   "source": []
  },
  {
   "cell_type": "code",
   "execution_count": null,
   "metadata": {},
   "outputs": [],
   "source": []
  }
 ],
 "metadata": {
  "kernelspec": {
   "display_name": "Python 3",
   "language": "python",
   "name": "python3"
  },
  "language_info": {
   "codemirror_mode": {
    "name": "ipython",
    "version": 3
   },
   "file_extension": ".py",
   "mimetype": "text/x-python",
   "name": "python",
   "nbconvert_exporter": "python",
   "pygments_lexer": "ipython3",
   "version": "3.4.2"
  }
 },
 "nbformat": 4,
 "nbformat_minor": 2
}
