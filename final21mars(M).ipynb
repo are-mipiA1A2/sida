{
 "cells": [
  {
   "cell_type": "code",
   "execution_count": 175,
   "metadata": {},
   "outputs": [],
   "source": [
    "import numpy as np\n",
    "import matplotlib.pyplot as plt"
   ]
  },
  {
   "cell_type": "code",
   "execution_count": 176,
   "metadata": {},
   "outputs": [],
   "source": [
    "N = 100\n",
    "def population(pc_gay, pc_les):\n",
    "    '''\n",
    "    matrice avec individu tuple = (genre,orientation,région,contamination)\n",
    "    '''\n",
    "    if np.random.randint(2)==0:\n",
    "        C=pc_les\n",
    "    else:\n",
    "        C=pc_gay\n",
    "    \n",
    "    state = np.array([(np.random.randint(2),np.random.random()<C) for i in range(100)])\n",
    "    \n",
    "    return state\n"
   ]
  },
  {
   "cell_type": "code",
   "execution_count": 177,
   "metadata": {},
   "outputs": [],
   "source": [
    "#on entre les pourcentage de gay (7%) et lesbienne (1%)\n",
    "state = population(0.07,0.01)"
   ]
  },
  {
   "cell_type": "code",
   "execution_count": 178,
   "metadata": {},
   "outputs": [
    {
     "name": "stdout",
     "output_type": "stream",
     "text": [
      "[0 False 'IDF' 'non infecté'] [1 False 'Auvergne Rhone Alpes' 'non infecté']\n"
     ]
    }
   ],
   "source": [
    "print(a,b)"
   ]
  },
  {
   "cell_type": "code",
   "execution_count": 179,
   "metadata": {},
   "outputs": [],
   "source": [
    "#on va rajouter un parametre dans la matrice qui est la provenance des regions\n",
    "#on fait une liste de tuple avec les regions et les probabilités de venir de là\n",
    "L = [ ('Haut de France',0.09), ('Grand Est',0.08), ('Normandie',0.05), ('Bretagne', 0.05), ('Pays de la Loire', 0.06), ('Centre Val de Loire',0.04), ('IDF',0.18),('Bourgogne Franche Comté', 0.04), ('Nouvelle Aquitaine', 0.09), ('Auvergne Rhone Alpes',0.12),('Occitanie',0.09), ('Provence Alpes Cotes d Azur',0.07), ('Corse', 0.01), ('Guadeloupe', 0.01), ('Martinique', 0.01), ('Guyane', 0.01), ('Reunion', 0.01), ('Mayotte',0.01) ]"
   ]
  },
  {
   "cell_type": "code",
   "execution_count": 180,
   "metadata": {
    "scrolled": false
   },
   "outputs": [],
   "source": [
    "def provenance (L) :\n",
    "    e=0\n",
    "    i,j=L[e]\n",
    "    s=j\n",
    "    p = np.random.random()\n",
    "\n",
    "    while  p> s:\n",
    "        e=e+1\n",
    "        s = s +L[e][1]\n",
    "    return L[e][0]\n",
    "        "
   ]
  },
  {
   "cell_type": "code",
   "execution_count": 181,
   "metadata": {},
   "outputs": [
    {
     "name": "stdout",
     "output_type": "stream",
     "text": [
      "IDF\n"
     ]
    }
   ],
   "source": [
    "print(provenance(L))"
   ]
  },
  {
   "cell_type": "code",
   "execution_count": 182,
   "metadata": {},
   "outputs": [],
   "source": [
    "N = 100\n",
    "def population2(pc_gay, pc_les, L):\n",
    "    '''\n",
    "    matrice avec individu tuple = (genre,orientation,région)\n",
    "    '''\n",
    "    if np.random.randint(2)==0:\n",
    "        C=pc_les\n",
    "    else:\n",
    "        C=pc_gay\n",
    "        \n",
    "    \n",
    "    state = np.array([(np.random.randint(2),np.random.random()<C, provenance(L)) for i in range(100)])\n",
    "    \n",
    "    return state\n"
   ]
  },
  {
   "cell_type": "code",
   "execution_count": 183,
   "metadata": {},
   "outputs": [],
   "source": [
    "#On va rajouter un autre parametre afin de savoir si la personne est infectee ou non, parametre a rajouter dans la matrice\n",
    "\n",
    "\n",
    "def infection (S) : \n",
    "    if np.random.random() < S:\n",
    "        return 'infecté'\n",
    "    else:\n",
    "        return 'non infecté'\n",
    "        "
   ]
  },
  {
   "cell_type": "code",
   "execution_count": 184,
   "metadata": {},
   "outputs": [],
   "source": [
    "N = 100\n",
    "def population3(pc_gay, pc_les, L,S):\n",
    "    '''\n",
    "    matrice avec individu tuple = (genre,orientation,région,contamination)\n",
    "    '''\n",
    "    if np.random.randint(2)==0:\n",
    "        C=pc_les\n",
    "    else:\n",
    "        C=pc_gay\n",
    "\n",
    "    \n",
    "    state = np.array([(np.random.randint(2),np.random.random()<C, provenance(L), infection(S)) for i in range(100)], dtype=object)\n",
    "    \n",
    "    return state"
   ]
  },
  {
   "cell_type": "code",
   "execution_count": 185,
   "metadata": {},
   "outputs": [
    {
     "name": "stdout",
     "output_type": "stream",
     "text": [
      "[[0 False 'IDF' 'non infecté']\n",
      " [1 False 'Centre Val de Loire' 'non infecté']\n",
      " [0 False 'Corse' 'non infecté']\n",
      " [1 False 'Bourgogne Franche Comté' 'non infecté']\n",
      " [1 False 'Haut de France' 'non infecté']\n",
      " [1 False 'Bretagne' 'non infecté']\n",
      " [0 False 'Auvergne Rhone Alpes' 'non infecté']\n",
      " [1 False 'IDF' 'non infecté']\n",
      " [0 False 'Occitanie' 'non infecté']\n",
      " [0 False 'Centre Val de Loire' 'non infecté']\n",
      " [1 False 'Guadeloupe' 'non infecté']\n",
      " [1 False 'IDF' 'non infecté']\n",
      " [1 False 'Haut de France' 'non infecté']\n",
      " [1 False 'Grand Est' 'non infecté']\n",
      " [1 False 'Occitanie' 'non infecté']\n",
      " [0 False 'Pays de la Loire' 'non infecté']\n",
      " [1 False 'Bourgogne Franche Comté' 'non infecté']\n",
      " [1 False 'Nouvelle Aquitaine' 'non infecté']\n",
      " [1 False 'Auvergne Rhone Alpes' 'non infecté']\n",
      " [1 False 'IDF' 'non infecté']\n",
      " [0 False 'Occitanie' 'non infecté']\n",
      " [0 False 'Pays de la Loire' 'non infecté']\n",
      " [0 False 'Auvergne Rhone Alpes' 'non infecté']\n",
      " [0 False 'Haut de France' 'non infecté']\n",
      " [0 False 'Haut de France' 'non infecté']\n",
      " [1 False 'Haut de France' 'non infecté']\n",
      " [0 False 'Auvergne Rhone Alpes' 'non infecté']\n",
      " [1 False 'Haut de France' 'non infecté']\n",
      " [1 False 'Martinique' 'non infecté']\n",
      " [0 False 'IDF' 'non infecté']\n",
      " [1 False 'Haut de France' 'non infecté']\n",
      " [1 False 'IDF' 'non infecté']\n",
      " [1 False 'Grand Est' 'non infecté']\n",
      " [0 False 'Bourgogne Franche Comté' 'non infecté']\n",
      " [0 False 'Auvergne Rhone Alpes' 'non infecté']\n",
      " [1 False 'Haut de France' 'non infecté']\n",
      " [1 False 'Auvergne Rhone Alpes' 'non infecté']\n",
      " [1 False 'Haut de France' 'non infecté']\n",
      " [1 False 'IDF' 'non infecté']\n",
      " [0 False 'Auvergne Rhone Alpes' 'non infecté']\n",
      " [0 False 'Nouvelle Aquitaine' 'non infecté']\n",
      " [1 False 'Occitanie' 'non infecté']\n",
      " [0 False 'Grand Est' 'non infecté']\n",
      " [1 False 'IDF' 'non infecté']\n",
      " [0 False 'Auvergne Rhone Alpes' 'non infecté']\n",
      " [1 False 'Corse' 'non infecté']\n",
      " [1 False 'Haut de France' 'non infecté']\n",
      " [1 False 'Haut de France' 'non infecté']\n",
      " [1 False 'IDF' 'non infecté']\n",
      " [0 False 'Nouvelle Aquitaine' 'non infecté']\n",
      " [0 False 'Auvergne Rhone Alpes' 'non infecté']\n",
      " [1 False 'Centre Val de Loire' 'non infecté']\n",
      " [0 False 'Provence Alpes Cotes d Azur' 'non infecté']\n",
      " [0 False 'Grand Est' 'non infecté']\n",
      " [0 False 'Pays de la Loire' 'non infecté']\n",
      " [0 False 'Normandie' 'non infecté']\n",
      " [0 False 'Grand Est' 'non infecté']\n",
      " [1 False 'IDF' 'non infecté']\n",
      " [0 False 'Haut de France' 'non infecté']\n",
      " [1 False 'Centre Val de Loire' 'non infecté']\n",
      " [0 False 'IDF' 'non infecté']\n",
      " [1 False 'Normandie' 'non infecté']\n",
      " [0 False 'IDF' 'non infecté']\n",
      " [1 False 'Auvergne Rhone Alpes' 'non infecté']\n",
      " [1 False 'IDF' 'non infecté']\n",
      " [0 False 'Normandie' 'non infecté']\n",
      " [1 False 'Provence Alpes Cotes d Azur' 'non infecté']\n",
      " [0 False 'Bretagne' 'non infecté']\n",
      " [1 False 'Auvergne Rhone Alpes' 'non infecté']\n",
      " [1 False 'Occitanie' 'non infecté']\n",
      " [1 False 'Occitanie' 'non infecté']\n",
      " [1 False 'Auvergne Rhone Alpes' 'non infecté']\n",
      " [1 False 'Bretagne' 'non infecté']\n",
      " [1 False 'IDF' 'non infecté']\n",
      " [0 False 'Auvergne Rhone Alpes' 'non infecté']\n",
      " [0 False 'Nouvelle Aquitaine' 'non infecté']\n",
      " [1 False 'Auvergne Rhone Alpes' 'non infecté']\n",
      " [1 False 'Grand Est' 'non infecté']\n",
      " [1 False 'Corse' 'non infecté']\n",
      " [0 False 'Auvergne Rhone Alpes' 'non infecté']\n",
      " [1 False 'IDF' 'non infecté']\n",
      " [1 False 'Auvergne Rhone Alpes' 'non infecté']\n",
      " [0 False 'Nouvelle Aquitaine' 'non infecté']\n",
      " [1 False 'IDF' 'non infecté']\n",
      " [0 False 'Normandie' 'non infecté']\n",
      " [1 False 'Nouvelle Aquitaine' 'non infecté']\n",
      " [0 False 'Haut de France' 'non infecté']\n",
      " [0 False 'Corse' 'non infecté']\n",
      " [0 False 'Pays de la Loire' 'non infecté']\n",
      " [1 False 'Occitanie' 'non infecté']\n",
      " [1 False 'Grand Est' 'non infecté']\n",
      " [1 False 'Auvergne Rhone Alpes' 'non infecté']\n",
      " [1 False 'Bourgogne Franche Comté' 'non infecté']\n",
      " [1 False 'IDF' 'non infecté']\n",
      " [0 False 'Pays de la Loire' 'non infecté']\n",
      " [0 False 'IDF' 'non infecté']\n",
      " [1 False 'Occitanie' 'non infecté']\n",
      " [0 False 'IDF' 'non infecté']\n",
      " [1 False 'Haut de France' 'non infecté']\n",
      " [0 False 'Haut de France' 'non infecté']]\n"
     ]
    }
   ],
   "source": [
    "print (population3(0.07,0.01,L,0.00228))"
   ]
  },
  {
   "cell_type": "code",
   "execution_count": 233,
   "metadata": {},
   "outputs": [
    {
     "name": "stdout",
     "output_type": "stream",
     "text": [
      "[[0 False 'Nouvelle Aquitaine' 'infecté']\n",
      " [0 False 'Haut de France' 'infecté']\n",
      " [0 False 'Pays de la Loire' 'non infecté']\n",
      " [1 False 'Bourgogne Franche Comté' 'non infecté']\n",
      " [0 False 'Nouvelle Aquitaine' 'infecté']\n",
      " [1 False 'Corse' 'infecté']\n",
      " [1 False 'Auvergne Rhone Alpes' 'non infecté']\n",
      " [0 False 'Haut de France' 'non infecté']\n",
      " [1 False 'Grand Est' 'infecté']\n",
      " [0 False 'Auvergne Rhone Alpes' 'infecté']\n",
      " [1 False 'Bretagne' 'infecté']\n",
      " [0 False 'Auvergne Rhone Alpes' 'infecté']\n",
      " [1 False 'IDF' 'non infecté']\n",
      " [1 False 'IDF' 'infecté']\n",
      " [1 False 'Occitanie' 'infecté']\n",
      " [0 False 'Auvergne Rhone Alpes' 'non infecté']\n",
      " [0 False 'Nouvelle Aquitaine' 'infecté']\n",
      " [0 False 'Provence Alpes Cotes d Azur' 'non infecté']\n",
      " [0 False 'Centre Val de Loire' 'infecté']\n",
      " [1 False 'Occitanie' 'infecté']\n",
      " [0 False 'Pays de la Loire' 'non infecté']\n",
      " [1 False 'Provence Alpes Cotes d Azur' 'non infecté']\n",
      " [1 False 'Grand Est' 'non infecté']\n",
      " [1 False 'Grand Est' 'non infecté']\n",
      " [1 False 'Grand Est' 'non infecté']\n",
      " [1 False 'Pays de la Loire' 'infecté']\n",
      " [0 False 'Nouvelle Aquitaine' 'infecté']\n",
      " [0 False 'Nouvelle Aquitaine' 'infecté']\n",
      " [0 False 'Pays de la Loire' 'non infecté']\n",
      " [0 False 'Haut de France' 'non infecté']\n",
      " [1 False 'Normandie' 'infecté']\n",
      " [1 False 'Nouvelle Aquitaine' 'non infecté']\n",
      " [1 False 'IDF' 'non infecté']\n",
      " [0 False 'Haut de France' 'non infecté']\n",
      " [0 False 'Provence Alpes Cotes d Azur' 'infecté']\n",
      " [0 False 'Auvergne Rhone Alpes' 'non infecté']\n",
      " [0 False 'Nouvelle Aquitaine' 'infecté']\n",
      " [0 False 'Pays de la Loire' 'non infecté']\n",
      " [1 False 'Martinique' 'non infecté']\n",
      " [1 False 'Corse' 'infecté']\n",
      " [1 False 'Bretagne' 'infecté']\n",
      " [0 False 'Nouvelle Aquitaine' 'infecté']\n",
      " [1 False 'Bourgogne Franche Comté' 'non infecté']\n",
      " [1 False 'Provence Alpes Cotes d Azur' 'infecté']\n",
      " [0 False 'Auvergne Rhone Alpes' 'non infecté']\n",
      " [0 False 'Bourgogne Franche Comté' 'infecté']\n",
      " [1 False 'IDF' 'non infecté']\n",
      " [1 False 'IDF' 'non infecté']\n",
      " [1 False 'Guyane' 'infecté']\n",
      " [1 False 'Grand Est' 'non infecté']\n",
      " [1 False 'Haut de France' 'infecté']\n",
      " [1 False 'Haut de France' 'infecté']\n",
      " [0 False 'Normandie' 'infecté']\n",
      " [0 False 'Haut de France' 'non infecté']\n",
      " [0 False 'IDF' 'infecté']\n",
      " [1 False 'Grand Est' 'infecté']\n",
      " [0 False 'Corse' 'infecté']\n",
      " [1 False 'Grand Est' 'non infecté']\n",
      " [1 False 'IDF' 'non infecté']\n",
      " [0 False 'Provence Alpes Cotes d Azur' 'non infecté']\n",
      " [1 False 'Occitanie' 'infecté']\n",
      " [1 False 'Occitanie' 'infecté']\n",
      " [0 False 'Pays de la Loire' 'infecté']\n",
      " [1 False 'Haut de France' 'non infecté']\n",
      " [1 False 'IDF' 'non infecté']\n",
      " [0 False 'Normandie' 'infecté']\n",
      " [1 False 'Haut de France' 'non infecté']\n",
      " [1 False 'Normandie' 'infecté']\n",
      " [0 False 'Nouvelle Aquitaine' 'infecté']\n",
      " [1 False 'Bourgogne Franche Comté' 'infecté']\n",
      " [1 False 'Occitanie' 'non infecté']\n",
      " [0 False 'Occitanie' 'non infecté']\n",
      " [1 False 'Auvergne Rhone Alpes' 'infecté']\n",
      " [1 False 'Corse' 'non infecté']\n",
      " [1 False 'IDF' 'infecté']\n",
      " [1 False 'Bourgogne Franche Comté' 'infecté']\n",
      " [0 False 'Grand Est' 'non infecté']\n",
      " [1 False 'Auvergne Rhone Alpes' 'infecté']\n",
      " [0 False 'Provence Alpes Cotes d Azur' 'non infecté']\n",
      " [0 False 'IDF' 'non infecté']\n",
      " [0 False 'Auvergne Rhone Alpes' 'infecté']\n",
      " [0 False 'Haut de France' 'non infecté']\n",
      " [0 False 'Nouvelle Aquitaine' 'non infecté']\n",
      " [0 False 'Haut de France' 'non infecté']\n",
      " [0 False 'IDF' 'non infecté']\n",
      " [0 False 'Pays de la Loire' 'non infecté']\n",
      " [1 False 'Provence Alpes Cotes d Azur' 'non infecté']\n",
      " [1 False 'Guadeloupe' 'infecté']\n",
      " [0 False 'Auvergne Rhone Alpes' 'non infecté']\n",
      " [1 False 'Nouvelle Aquitaine' 'non infecté']\n",
      " [1 False 'Auvergne Rhone Alpes' 'infecté']\n",
      " [1 False 'IDF' 'infecté']\n",
      " [0 False 'Occitanie' 'non infecté']\n",
      " [1 False 'Provence Alpes Cotes d Azur' 'infecté']\n",
      " [1 False 'Haut de France' 'infecté']\n",
      " [1 False 'IDF' 'non infecté']\n",
      " [1 False 'Grand Est' 'infecté']\n",
      " [0 False 'Auvergne Rhone Alpes' 'non infecté']\n",
      " [1 False 'Centre Val de Loire' 'infecté']\n",
      " [1 False 'Bretagne' 'infecté']]\n"
     ]
    }
   ],
   "source": [
    "newstate = population3(0.07,0.01,L,0.5)\n",
    "print (newstate)"
   ]
  },
  {
   "cell_type": "code",
   "execution_count": 234,
   "metadata": {},
   "outputs": [
    {
     "name": "stdout",
     "output_type": "stream",
     "text": [
      "[1 False 'Auvergne Rhone Alpes' 'infecté']\n"
     ]
    }
   ],
   "source": [
    "a=(newstate[np.random.randint(N+1)])\n",
    "print(a)"
   ]
  },
  {
   "cell_type": "code",
   "execution_count": 235,
   "metadata": {},
   "outputs": [
    {
     "name": "stdout",
     "output_type": "stream",
     "text": [
      "[0 False 'IDF' 'non infecté']\n"
     ]
    }
   ],
   "source": [
    "b=(newstate[np.random.randint(N+1)])\n",
    "print(b)"
   ]
  },
  {
   "cell_type": "code",
   "execution_count": 236,
   "metadata": {},
   "outputs": [
    {
     "name": "stdout",
     "output_type": "stream",
     "text": [
      "compatible\n"
     ]
    }
   ],
   "source": [
    "def compatibilite(a,b):\n",
    "    \n",
    "    #x défini le genre et y defini lorientation sexuelle \n",
    "    #Pour le genre, femme (0) et homme (1)\n",
    "    #Pour lorientation sexuelle, homosexuel (1) et hétéro(0)\n",
    "    \n",
    "    x1,y1,c,d = a\n",
    "    x2,y2,j,k = b\n",
    "    if y1 == y2 and y1 == 1 :\n",
    "        if x1 == x2 :\n",
    "            return 'compatible'\n",
    "        else : \n",
    "            return 'non compatible'\n",
    "    elif y1==y2 and y1==0:\n",
    "        if x1==x2:\n",
    "            return 'non compatible'\n",
    "        else : \n",
    "            return 'compatible'\n",
    "    elif y1 != y2 :\n",
    "        return 'non compatible'\n",
    "    \n",
    "print(compatibilite(a,b))"
   ]
  },
  {
   "cell_type": "code",
   "execution_count": 237,
   "metadata": {},
   "outputs": [],
   "source": [
    "#probabilité que les deux personnes aient un rapport sexuel après la rencontre\n",
    "Prs = 0.9"
   ]
  },
  {
   "cell_type": "code",
   "execution_count": 238,
   "metadata": {},
   "outputs": [],
   "source": [
    "\n",
    "\n",
    "\n",
    "def rapport_sexuel(a,b,Prs,newstate):\n",
    "    \n",
    "    \n",
    "    (ya,zb,c,d) = a\n",
    "    (e,f,g,h) = b\n",
    "    \n",
    "    \n",
    "    if compatibilite(a,b)== 'compatible':\n",
    "    #and (_,_,c,_)==(_,_,g,_):\n",
    "       \n",
    "        y=np.random.random()\n",
    "        #print(y)\n",
    "        if y <= Prs :\n",
    "            return 'rapport'\n",
    "    return 'non rapport'"
   ]
  },
  {
   "cell_type": "code",
   "execution_count": 239,
   "metadata": {},
   "outputs": [],
   "source": [
    "#pourcentage rapport protégé\n",
    "Prp = 0.1\n",
    "\n"
   ]
  },
  {
   "cell_type": "code",
   "execution_count": 264,
   "metadata": {},
   "outputs": [],
   "source": [
    "def protection(a,b,Prs,Prp,newstate):\n",
    "    \n",
    "    if rapport_sexuel(a,b,Prs,newstate)== 'rapport':\n",
    "        z=np.random.random()\n",
    "        \n",
    "        if z <= Prp:\n",
    "            return 'rapport protégé'\n",
    "        else:\n",
    "            return 'rapport non protégé'\n",
    "    return 'pas de rapport'"
   ]
  },
  {
   "cell_type": "code",
   "execution_count": 265,
   "metadata": {},
   "outputs": [
    {
     "name": "stdout",
     "output_type": "stream",
     "text": [
      "rapport non protégé\n"
     ]
    }
   ],
   "source": [
    "print(protection(a,b,Prs,Prp,newstate))"
   ]
  },
  {
   "cell_type": "code",
   "execution_count": 266,
   "metadata": {},
   "outputs": [],
   "source": [
    "#taux de femmes pratiquant le sexe anal\n",
    "Ts = 0.1"
   ]
  },
  {
   "cell_type": "code",
   "execution_count": 306,
   "metadata": {},
   "outputs": [
    {
     "name": "stdout",
     "output_type": "stream",
     "text": [
      "[[0 False 'Nouvelle Aquitaine' 'infecté']\n",
      " [0 False 'Haut de France' 'infecté']\n",
      " [0 False 'Pays de la Loire' 'non infecté']\n",
      " [1 False 'Bourgogne Franche Comté' 'non infecté']\n",
      " [0 False 'Nouvelle Aquitaine' 'infecté']\n",
      " [1 False 'Corse' 'infecté']\n",
      " [1 False 'Auvergne Rhone Alpes' 'non infecté']\n",
      " [0 False 'Haut de France' 'non infecté']\n",
      " [1 False 'Grand Est' 'infecté']\n",
      " [0 False 'Auvergne Rhone Alpes' 'infecté']\n",
      " [1 False 'Bretagne' 'infecté']\n",
      " [0 False 'Auvergne Rhone Alpes' 'infecté']\n",
      " [1 False 'IDF' 'non infecté']\n",
      " [1 False 'IDF' 'infecté']\n",
      " [1 False 'Occitanie' 'infecté']\n",
      " [0 False 'Auvergne Rhone Alpes' 'non infecté']\n",
      " [0 False 'Nouvelle Aquitaine' 'infecté']\n",
      " [0 False 'Provence Alpes Cotes d Azur' 'non infecté']\n",
      " [0 False 'Centre Val de Loire' 'infecté']\n",
      " [1 False 'Occitanie' 'infecté']\n",
      " [0 False 'Pays de la Loire' 'non infecté']\n",
      " [1 False 'Provence Alpes Cotes d Azur' 'non infecté']\n",
      " [1 False 'Grand Est' 'non infecté']\n",
      " [1 False 'Grand Est' 'non infecté']\n",
      " [1 False 'Grand Est' 'non infecté']\n",
      " [1 False 'Pays de la Loire' 'infecté']\n",
      " [0 False 'Nouvelle Aquitaine' 'infecté']\n",
      " [0 False 'Nouvelle Aquitaine' 'infecté']\n",
      " [0 False 'Pays de la Loire' 'non infecté']\n",
      " [0 False 'Haut de France' 'non infecté']\n",
      " [1 False 'Normandie' 'infecté']\n",
      " [1 False 'Nouvelle Aquitaine' 'non infecté']\n",
      " [1 False 'IDF' 'non infecté']\n",
      " [0 False 'Haut de France' 'non infecté']\n",
      " [0 False 'Provence Alpes Cotes d Azur' 'infecté']\n",
      " [0 False 'Auvergne Rhone Alpes' 'non infecté']\n",
      " [0 False 'Nouvelle Aquitaine' 'infecté']\n",
      " [0 False 'Pays de la Loire' 'non infecté']\n",
      " [1 False 'Martinique' 'non infecté']\n",
      " [1 False 'Corse' 'infecté']\n",
      " [1 False 'Bretagne' 'infecté']\n",
      " [0 False 'Nouvelle Aquitaine' 'infecté']\n",
      " [1 False 'Bourgogne Franche Comté' 'non infecté']\n",
      " [1 False 'Provence Alpes Cotes d Azur' 'infecté']\n",
      " [0 False 'Auvergne Rhone Alpes' 'non infecté']\n",
      " [0 False 'Bourgogne Franche Comté' 'infecté']\n",
      " [1 False 'IDF' 'non infecté']\n",
      " [1 False 'IDF' 'non infecté']\n",
      " [1 False 'Guyane' 'infecté']\n",
      " [1 False 'Grand Est' 'non infecté']\n",
      " [1 False 'Haut de France' 'infecté']\n",
      " [1 False 'Haut de France' 'infecté']\n",
      " [0 False 'Normandie' 'infecté']\n",
      " [0 False 'Haut de France' 'non infecté']\n",
      " [0 False 'IDF' 'infecté']\n",
      " [1 False 'Grand Est' 'infecté']\n",
      " [0 False 'Corse' 'infecté']\n",
      " [1 False 'Grand Est' 'non infecté']\n",
      " [1 False 'IDF' 'non infecté']\n",
      " [0 False 'Provence Alpes Cotes d Azur' 'non infecté']\n",
      " [1 False 'Occitanie' 'infecté']\n",
      " [1 False 'Occitanie' 'infecté']\n",
      " [0 False 'Pays de la Loire' 'infecté']\n",
      " [1 False 'Haut de France' 'non infecté']\n",
      " [1 False 'IDF' 'non infecté']\n",
      " [0 False 'Normandie' 'infecté']\n",
      " [1 False 'Haut de France' 'non infecté']\n",
      " [1 False 'Normandie' 'infecté']\n",
      " [0 False 'Nouvelle Aquitaine' 'infecté']\n",
      " [1 False 'Bourgogne Franche Comté' 'infecté']\n",
      " [1 False 'Occitanie' 'non infecté']\n",
      " [0 False 'Occitanie' 'non infecté']\n",
      " [1 False 'Auvergne Rhone Alpes' 'infecté']\n",
      " [1 False 'Corse' 'non infecté']\n",
      " [1 False 'IDF' 'infecté']\n",
      " [1 False 'Bourgogne Franche Comté' 'infecté']\n",
      " [0 False 'Grand Est' 'non infecté']\n",
      " [1 False 'Auvergne Rhone Alpes' 'infecté']\n",
      " [0 False 'Provence Alpes Cotes d Azur' 'non infecté']\n",
      " [0 False 'IDF' 'non infecté']\n",
      " [0 False 'Auvergne Rhone Alpes' 'infecté']\n",
      " [0 False 'Haut de France' 'non infecté']\n",
      " [0 False 'Nouvelle Aquitaine' 'non infecté']\n",
      " [0 False 'Haut de France' 'non infecté']\n",
      " [0 False 'IDF' 'non infecté']\n",
      " [0 False 'Pays de la Loire' 'non infecté']\n",
      " [1 False 'Provence Alpes Cotes d Azur' 'non infecté']\n",
      " [1 False 'Guadeloupe' 'infecté']\n",
      " [0 False 'Auvergne Rhone Alpes' 'non infecté']\n",
      " [1 False 'Nouvelle Aquitaine' 'non infecté']\n",
      " [1 False 'Auvergne Rhone Alpes' 'infecté']\n",
      " [1 False 'IDF' 'infecté']\n",
      " [0 False 'Occitanie' 'non infecté']\n",
      " [1 False 'Provence Alpes Cotes d Azur' 'infecté']\n",
      " [1 False 'Haut de France' 'infecté']\n",
      " [1 False 'IDF' 'non infecté']\n",
      " [1 False 'Grand Est' 'infecté']\n",
      " [0 False 'Auvergne Rhone Alpes' 'non infecté']\n",
      " [1 False 'Centre Val de Loire' 'infecté']\n",
      " [1 False 'Bretagne' 'infecté']]\n"
     ]
    }
   ],
   "source": [
    "print(newstate)"
   ]
  },
  {
   "cell_type": "code",
   "execution_count": 317,
   "metadata": {},
   "outputs": [],
   "source": [
    "#probabilité de transmettre le sida selon le rapport\n",
    "import random\n",
    "\n",
    "RAR = 0.9\n",
    "RI = 0.9\n",
    "RVR = 0.9\n"
   ]
  },
  {
   "cell_type": "code",
   "execution_count": 318,
   "metadata": {},
   "outputs": [
    {
     "name": "stdout",
     "output_type": "stream",
     "text": [
      "[1 False 'Occitanie' 'infecté']\n"
     ]
    }
   ],
   "source": [
    "print(newstate[14])"
   ]
  },
  {
   "cell_type": "code",
   "execution_count": 322,
   "metadata": {},
   "outputs": [],
   "source": [
    "l1 = np.random.randint(N+1)\n",
    "a = (newstate[l1])\n"
   ]
  },
  {
   "cell_type": "code",
   "execution_count": 324,
   "metadata": {},
   "outputs": [],
   "source": [
    "l2 = np.random.randint(N+1)\n",
    "b = (newstate [l2])"
   ]
  },
  {
   "cell_type": "code",
   "execution_count": 325,
   "metadata": {},
   "outputs": [],
   "source": [
    "l1 = 0\n",
    "l2 = 3"
   ]
  },
  {
   "cell_type": "code",
   "execution_count": 328,
   "metadata": {},
   "outputs": [
    {
     "name": "stdout",
     "output_type": "stream",
     "text": [
      "[[0 False 'Nouvelle Aquitaine' 'infecté']\n",
      " [0 False 'Haut de France' 'infecté']\n",
      " [0 False 'Pays de la Loire' 'non infecté']\n",
      " [1 False 'Bourgogne Franche Comté' 'infecté']\n",
      " [0 False 'Nouvelle Aquitaine' 'infecté']\n",
      " [1 False 'Corse' 'infecté']\n",
      " [1 False 'Auvergne Rhone Alpes' 'non infecté']\n",
      " [0 False 'Haut de France' 'non infecté']\n",
      " [1 False 'Grand Est' 'infecté']\n",
      " [0 False 'Auvergne Rhone Alpes' 'infecté']\n",
      " [1 False 'Bretagne' 'infecté']\n",
      " [0 False 'Auvergne Rhone Alpes' 'infecté']\n",
      " [1 False 'IDF' 'non infecté']\n",
      " [1 False 'IDF' 'infecté']\n",
      " [1 False 'Occitanie' 'infecté']\n",
      " [0 False 'Auvergne Rhone Alpes' 'non infecté']\n",
      " [0 False 'Nouvelle Aquitaine' 'infecté']\n",
      " [0 False 'Provence Alpes Cotes d Azur' 'non infecté']\n",
      " [0 False 'Centre Val de Loire' 'infecté']\n",
      " [1 False 'Occitanie' 'infecté']\n",
      " [0 False 'Pays de la Loire' 'non infecté']\n",
      " [1 False 'Provence Alpes Cotes d Azur' 'non infecté']\n",
      " [1 False 'Grand Est' 'non infecté']\n",
      " [1 False 'Grand Est' 'non infecté']\n",
      " [1 False 'Grand Est' 'non infecté']\n",
      " [1 False 'Pays de la Loire' 'infecté']\n",
      " [0 False 'Nouvelle Aquitaine' 'infecté']\n",
      " [0 False 'Nouvelle Aquitaine' 'infecté']\n",
      " [0 False 'Pays de la Loire' 'non infecté']\n",
      " [0 False 'Haut de France' 'non infecté']\n",
      " [1 False 'Normandie' 'infecté']\n",
      " [1 False 'Nouvelle Aquitaine' 'non infecté']\n",
      " [1 False 'IDF' 'non infecté']\n",
      " [0 False 'Haut de France' 'non infecté']\n",
      " [0 False 'Provence Alpes Cotes d Azur' 'infecté']\n",
      " [0 False 'Auvergne Rhone Alpes' 'non infecté']\n",
      " [0 False 'Nouvelle Aquitaine' 'infecté']\n",
      " [0 False 'Pays de la Loire' 'non infecté']\n",
      " [1 False 'Martinique' 'non infecté']\n",
      " [1 False 'Corse' 'infecté']\n",
      " [1 False 'Bretagne' 'infecté']\n",
      " [0 False 'Nouvelle Aquitaine' 'infecté']\n",
      " [1 False 'Bourgogne Franche Comté' 'non infecté']\n",
      " [1 False 'Provence Alpes Cotes d Azur' 'infecté']\n",
      " [0 False 'Auvergne Rhone Alpes' 'non infecté']\n",
      " [0 False 'Bourgogne Franche Comté' 'infecté']\n",
      " [1 False 'IDF' 'non infecté']\n",
      " [1 False 'IDF' 'non infecté']\n",
      " [1 False 'Guyane' 'infecté']\n",
      " [1 False 'Grand Est' 'non infecté']\n",
      " [1 False 'Haut de France' 'infecté']\n",
      " [1 False 'Haut de France' 'infecté']\n",
      " [0 False 'Normandie' 'infecté']\n",
      " [0 False 'Haut de France' 'non infecté']\n",
      " [0 False 'IDF' 'infecté']\n",
      " [1 False 'Grand Est' 'infecté']\n",
      " [0 False 'Corse' 'infecté']\n",
      " [1 False 'Grand Est' 'non infecté']\n",
      " [1 False 'IDF' 'non infecté']\n",
      " [0 False 'Provence Alpes Cotes d Azur' 'non infecté']\n",
      " [1 False 'Occitanie' 'infecté']\n",
      " [1 False 'Occitanie' 'infecté']\n",
      " [0 False 'Pays de la Loire' 'infecté']\n",
      " [1 False 'Haut de France' 'non infecté']\n",
      " [1 False 'IDF' 'non infecté']\n",
      " [0 False 'Normandie' 'infecté']\n",
      " [1 False 'Haut de France' 'non infecté']\n",
      " [1 False 'Normandie' 'infecté']\n",
      " [0 False 'Nouvelle Aquitaine' 'infecté']\n",
      " [1 False 'Bourgogne Franche Comté' 'infecté']\n",
      " [1 False 'Occitanie' 'non infecté']\n",
      " [0 False 'Occitanie' 'non infecté']\n",
      " [1 False 'Auvergne Rhone Alpes' 'infecté']\n",
      " [1 False 'Corse' 'non infecté']\n",
      " [1 False 'IDF' 'infecté']\n",
      " [1 False 'Bourgogne Franche Comté' 'infecté']\n",
      " [0 False 'Grand Est' 'non infecté']\n",
      " [1 False 'Auvergne Rhone Alpes' 'infecté']\n",
      " [0 False 'Provence Alpes Cotes d Azur' 'non infecté']\n",
      " [0 False 'IDF' 'non infecté']\n",
      " [0 False 'Auvergne Rhone Alpes' 'infecté']\n",
      " [0 False 'Haut de France' 'non infecté']\n",
      " [0 False 'Nouvelle Aquitaine' 'non infecté']\n",
      " [0 False 'Haut de France' 'non infecté']\n",
      " [0 False 'IDF' 'non infecté']\n",
      " [0 False 'Pays de la Loire' 'non infecté']\n",
      " [1 False 'Provence Alpes Cotes d Azur' 'non infecté']\n",
      " [1 False 'Guadeloupe' 'infecté']\n",
      " [0 False 'Auvergne Rhone Alpes' 'non infecté']\n",
      " [1 False 'Nouvelle Aquitaine' 'non infecté']\n",
      " [1 False 'Auvergne Rhone Alpes' 'infecté']\n",
      " [1 False 'IDF' 'infecté']\n",
      " [0 False 'Occitanie' 'non infecté']\n",
      " [1 False 'Provence Alpes Cotes d Azur' 'infecté']\n",
      " [1 False 'Haut de France' 'infecté']\n",
      " [1 False 'IDF' 'non infecté']\n",
      " [1 False 'Grand Est' 'infecté']\n",
      " [0 False 'Auvergne Rhone Alpes' 'non infecté']\n",
      " [1 False 'Centre Val de Loire' 'infecté']\n",
      " [1 False 'Bretagne' 'infecté']]\n"
     ]
    }
   ],
   "source": [
    "newstate2 = newstate\n",
    "l1 = 0\n",
    "l2 = 3\n",
    "def sida(a,b,Prs,RAR,RI,RVR,newstate2):\n",
    "    \n",
    "    protege = protection(a,b,Prs,Prp,newstate)\n",
    "    h = np.array([(np.random.randint(2),np.random.random()<C, provenance(L), 'infecte')], dtype=object)\n",
    "    (ya,zb,_,d)=a\n",
    "    (e,f,_,h)=b\n",
    "    newstate2 = newstate\n",
    "\n",
    "    if protege == 'rapport non protégé':\n",
    "        print(\"non protégé\")\n",
    "        \n",
    "        \n",
    "        if (ya,zb,_,d) ==(1,False,_,'infecté') and (e,f,_,h)==(0,False,_,'non infecté'):\n",
    "            s = random.random()\n",
    "            if s <= RVR:\n",
    "                newstate2[l2]= np.array([0, False,_, 'infecté'], dtype=object)\n",
    "                return newstate2\n",
    "            \n",
    "        elif (ya,zb,_,d)==(1,False,_,'non infecté') and (e,f,_,h)==(0,False,_,'infecté'):\n",
    "            s1 = random.random()\n",
    "            print(s1)\n",
    "            if s1 <= RI:\n",
    "                newstate2[l1]= np.array([1, False,_, 'infecté'], dtype=object)\n",
    "                return newstate2\n",
    "                \n",
    "        elif (ya,zb,_,d) ==(0,False,_,'infecté') and (e,f,_,h)==(1,False,_,'non infecté'):\n",
    "            s2 = random.random()\n",
    "            if s2 <= RI:\n",
    "                newstate2[l2]=np.array([1, False,_, 'infecté'], dtype=object)\n",
    "                return newstate2\n",
    "                \n",
    "        elif (ya,zb,_,d) ==(0,False,_,'non infecté') and (e,f,_,h)==(1,False,_,'infecté'):\n",
    "            s3 = random.random()\n",
    "            if s3 <= RVR:\n",
    "                newstate2[l1]=np.array([0, False,_, 'infecté'], dtype=object)\n",
    "                return newstate2\n",
    "    return \n",
    "print (newstate2)"
   ]
  },
  {
   "cell_type": "code",
   "execution_count": 327,
   "metadata": {},
   "outputs": [
    {
     "name": "stdout",
     "output_type": "stream",
     "text": [
      "non protégé\n",
      "[[0 False 'Nouvelle Aquitaine' 'infecté']\n",
      " [0 False 'Haut de France' 'infecté']\n",
      " [0 False 'Pays de la Loire' 'non infecté']\n",
      " [1 False 'Bourgogne Franche Comté' 'infecté']\n",
      " [0 False 'Nouvelle Aquitaine' 'infecté']\n",
      " [1 False 'Corse' 'infecté']\n",
      " [1 False 'Auvergne Rhone Alpes' 'non infecté']\n",
      " [0 False 'Haut de France' 'non infecté']\n",
      " [1 False 'Grand Est' 'infecté']\n",
      " [0 False 'Auvergne Rhone Alpes' 'infecté']\n",
      " [1 False 'Bretagne' 'infecté']\n",
      " [0 False 'Auvergne Rhone Alpes' 'infecté']\n",
      " [1 False 'IDF' 'non infecté']\n",
      " [1 False 'IDF' 'infecté']\n",
      " [1 False 'Occitanie' 'infecté']\n",
      " [0 False 'Auvergne Rhone Alpes' 'non infecté']\n",
      " [0 False 'Nouvelle Aquitaine' 'infecté']\n",
      " [0 False 'Provence Alpes Cotes d Azur' 'non infecté']\n",
      " [0 False 'Centre Val de Loire' 'infecté']\n",
      " [1 False 'Occitanie' 'infecté']\n",
      " [0 False 'Pays de la Loire' 'non infecté']\n",
      " [1 False 'Provence Alpes Cotes d Azur' 'non infecté']\n",
      " [1 False 'Grand Est' 'non infecté']\n",
      " [1 False 'Grand Est' 'non infecté']\n",
      " [1 False 'Grand Est' 'non infecté']\n",
      " [1 False 'Pays de la Loire' 'infecté']\n",
      " [0 False 'Nouvelle Aquitaine' 'infecté']\n",
      " [0 False 'Nouvelle Aquitaine' 'infecté']\n",
      " [0 False 'Pays de la Loire' 'non infecté']\n",
      " [0 False 'Haut de France' 'non infecté']\n",
      " [1 False 'Normandie' 'infecté']\n",
      " [1 False 'Nouvelle Aquitaine' 'non infecté']\n",
      " [1 False 'IDF' 'non infecté']\n",
      " [0 False 'Haut de France' 'non infecté']\n",
      " [0 False 'Provence Alpes Cotes d Azur' 'infecté']\n",
      " [0 False 'Auvergne Rhone Alpes' 'non infecté']\n",
      " [0 False 'Nouvelle Aquitaine' 'infecté']\n",
      " [0 False 'Pays de la Loire' 'non infecté']\n",
      " [1 False 'Martinique' 'non infecté']\n",
      " [1 False 'Corse' 'infecté']\n",
      " [1 False 'Bretagne' 'infecté']\n",
      " [0 False 'Nouvelle Aquitaine' 'infecté']\n",
      " [1 False 'Bourgogne Franche Comté' 'non infecté']\n",
      " [1 False 'Provence Alpes Cotes d Azur' 'infecté']\n",
      " [0 False 'Auvergne Rhone Alpes' 'non infecté']\n",
      " [0 False 'Bourgogne Franche Comté' 'infecté']\n",
      " [1 False 'IDF' 'non infecté']\n",
      " [1 False 'IDF' 'non infecté']\n",
      " [1 False 'Guyane' 'infecté']\n",
      " [1 False 'Grand Est' 'non infecté']\n",
      " [1 False 'Haut de France' 'infecté']\n",
      " [1 False 'Haut de France' 'infecté']\n",
      " [0 False 'Normandie' 'infecté']\n",
      " [0 False 'Haut de France' 'non infecté']\n",
      " [0 False 'IDF' 'infecté']\n",
      " [1 False 'Grand Est' 'infecté']\n",
      " [0 False 'Corse' 'infecté']\n",
      " [1 False 'Grand Est' 'non infecté']\n",
      " [1 False 'IDF' 'non infecté']\n",
      " [0 False 'Provence Alpes Cotes d Azur' 'non infecté']\n",
      " [1 False 'Occitanie' 'infecté']\n",
      " [1 False 'Occitanie' 'infecté']\n",
      " [0 False 'Pays de la Loire' 'infecté']\n",
      " [1 False 'Haut de France' 'non infecté']\n",
      " [1 False 'IDF' 'non infecté']\n",
      " [0 False 'Normandie' 'infecté']\n",
      " [1 False 'Haut de France' 'non infecté']\n",
      " [1 False 'Normandie' 'infecté']\n",
      " [0 False 'Nouvelle Aquitaine' 'infecté']\n",
      " [1 False 'Bourgogne Franche Comté' 'infecté']\n",
      " [1 False 'Occitanie' 'non infecté']\n",
      " [0 False 'Occitanie' 'non infecté']\n",
      " [1 False 'Auvergne Rhone Alpes' 'infecté']\n",
      " [1 False 'Corse' 'non infecté']\n",
      " [1 False 'IDF' 'infecté']\n",
      " [1 False 'Bourgogne Franche Comté' 'infecté']\n",
      " [0 False 'Grand Est' 'non infecté']\n",
      " [1 False 'Auvergne Rhone Alpes' 'infecté']\n",
      " [0 False 'Provence Alpes Cotes d Azur' 'non infecté']\n",
      " [0 False 'IDF' 'non infecté']\n",
      " [0 False 'Auvergne Rhone Alpes' 'infecté']\n",
      " [0 False 'Haut de France' 'non infecté']\n",
      " [0 False 'Nouvelle Aquitaine' 'non infecté']\n",
      " [0 False 'Haut de France' 'non infecté']\n",
      " [0 False 'IDF' 'non infecté']\n",
      " [0 False 'Pays de la Loire' 'non infecté']\n",
      " [1 False 'Provence Alpes Cotes d Azur' 'non infecté']\n",
      " [1 False 'Guadeloupe' 'infecté']\n",
      " [0 False 'Auvergne Rhone Alpes' 'non infecté']\n",
      " [1 False 'Nouvelle Aquitaine' 'non infecté']\n",
      " [1 False 'Auvergne Rhone Alpes' 'infecté']\n",
      " [1 False 'IDF' 'infecté']\n",
      " [0 False 'Occitanie' 'non infecté']\n",
      " [1 False 'Provence Alpes Cotes d Azur' 'infecté']\n",
      " [1 False 'Haut de France' 'infecté']\n",
      " [1 False 'IDF' 'non infecté']\n",
      " [1 False 'Grand Est' 'infecté']\n",
      " [0 False 'Auvergne Rhone Alpes' 'non infecté']\n",
      " [1 False 'Centre Val de Loire' 'infecté']\n",
      " [1 False 'Bretagne' 'infecté']]\n"
     ]
    }
   ],
   "source": [
    "print (sida(newstate[1],newstate[3],0.9,0.9,0.9,0.9,newstate))"
   ]
  },
  {
   "cell_type": "code",
   "execution_count": 294,
   "metadata": {
    "scrolled": true
   },
   "outputs": [
    {
     "name": "stdout",
     "output_type": "stream",
     "text": [
      "[1 False 'IDF' 'infecté'] [1 False 'IDF' 'non infecté']\n",
      "pas de rapport\n"
     ]
    }
   ],
   "source": [
    "\n",
    "print(a,b)\n",
    "print(protection(a,b,Prs,Prp,newstate))\n"
   ]
  },
  {
   "cell_type": "code",
   "execution_count": 295,
   "metadata": {
    "scrolled": true
   },
   "outputs": [
    {
     "name": "stdout",
     "output_type": "stream",
     "text": [
      "None\n"
     ]
    }
   ],
   "source": [
    "print(sida(a,b,Prs,RAR,RI,RVR,newstate))"
   ]
  },
  {
   "cell_type": "code",
   "execution_count": 297,
   "metadata": {},
   "outputs": [
    {
     "name": "stdout",
     "output_type": "stream",
     "text": [
      "None\n"
     ]
    }
   ],
   "source": [
    "print(sida(newstate[0],newstate[3],Prs,RAR,RI,RVR,newstate))"
   ]
  },
  {
   "cell_type": "code",
   "execution_count": null,
   "metadata": {},
   "outputs": [],
   "source": [
    "\n",
    "    \n",
    "    "
   ]
  },
  {
   "cell_type": "code",
   "execution_count": 203,
   "metadata": {},
   "outputs": [],
   "source": [
    "N = 100\n",
    "def population3(pc_gay, pc_les, L,S):\n",
    "    '''\n",
    "    matrice avec individu tuple = (genre,orientation,région,contamination)\n",
    "    '''\n",
    "    if np.random.randint(2)==0:\n",
    "        C=pc_les\n",
    "    else:\n",
    "        C=pc_gay\n",
    "\n",
    "    \n",
    "    state = np.array([(np.random.randint(2),np.random.random()<C, provenance(L), infection(S)) for i in range(100)], dtype=object)\n",
    "    \n",
    "    return state"
   ]
  },
  {
   "cell_type": "code",
   "execution_count": 212,
   "metadata": {},
   "outputs": [
    {
     "name": "stdout",
     "output_type": "stream",
     "text": [
      "[[0 False 'Auvergne Rhone Alpes' 'infecte']]\n"
     ]
    }
   ],
   "source": [
    "C= 0.07\n",
    "S = 0.1\n",
    "print(np.array([(np.random.randint(2),np.random.random()<C, provenance(L), 'infecte')], dtype=object)\n",
    "    )"
   ]
  },
  {
   "cell_type": "code",
   "execution_count": null,
   "metadata": {},
   "outputs": [],
   "source": []
  },
  {
   "cell_type": "code",
   "execution_count": null,
   "metadata": {},
   "outputs": [],
   "source": []
  },
  {
   "cell_type": "code",
   "execution_count": null,
   "metadata": {},
   "outputs": [],
   "source": []
  }
 ],
 "metadata": {
  "kernelspec": {
   "display_name": "Python 3",
   "language": "python",
   "name": "python3"
  },
  "language_info": {
   "codemirror_mode": {
    "name": "ipython",
    "version": 3
   },
   "file_extension": ".py",
   "mimetype": "text/x-python",
   "name": "python",
   "nbconvert_exporter": "python",
   "pygments_lexer": "ipython3",
   "version": "3.4.2"
  }
 },
 "nbformat": 4,
 "nbformat_minor": 2
}
